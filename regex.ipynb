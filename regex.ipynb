{
 "cells": [
  {
   "cell_type": "code",
   "execution_count": 22,
   "id": "aaaecf56",
   "metadata": {},
   "outputs": [],
   "source": [
    "import regex\n",
    "import re\n",
    "from datasets import load_dataset\n",
    "import pandas as pd\n",
    "from collections import defaultdict\n",
    "import matplotlib.pyplot as plt"
   ]
  },
  {
   "cell_type": "code",
   "execution_count": 23,
   "id": "abc2ad67",
   "metadata": {
    "collapsed": true
   },
   "outputs": [
    {
     "name": "stderr",
     "output_type": "stream",
     "text": [
      "Found cached dataset fiqa-pl (C:/Users/Macie/.cache/huggingface/datasets/clarin-knext___fiqa-pl/corpus/0.0.0/bada00640881ee3fd04c3b88df9edd435616d17e0a46faf05e63063858742140)\n"
     ]
    },
    {
     "data": {
      "application/vnd.jupyter.widget-view+json": {
       "model_id": "a1c9d8da33b445d6a4f884ae63010087",
       "version_major": 2,
       "version_minor": 0
      },
      "text/plain": [
       "  0%|          | 0/1 [00:00<?, ?it/s]"
      ]
     },
     "metadata": {},
     "output_type": "display_data"
    },
    {
     "data": {
      "text/plain": [
       "DatasetDict({\n",
       "    corpus: Dataset({\n",
       "        features: ['_id', 'title', 'text'],\n",
       "        num_rows: 57638\n",
       "    })\n",
       "})"
      ]
     },
     "execution_count": 23,
     "metadata": {},
     "output_type": "execute_result"
    }
   ],
   "source": [
    "dataset = load_dataset(\"clarin-knext/fiqa-pl\", 'corpus')\n",
    "dataset"
   ]
  },
  {
   "cell_type": "code",
   "execution_count": 24,
   "id": "02282227",
   "metadata": {},
   "outputs": [
    {
     "data": {
      "text/plain": [
       "0        Nie mówię, że nie podoba mi się też pomysł szk...\n",
       "1        Tak więc nic nie zapobiega fałszywym ocenom po...\n",
       "2        Nigdy nie możesz korzystać z FSA dla indywidua...\n",
       "3        Samsung stworzył LCD i inne technologie płaski...\n",
       "4        Oto wymagania SEC: Federalne przepisy dotycząc...\n",
       "                               ...                        \n",
       "57633    >Cóż, po pierwsze, drogi to coś więcej niż hob...\n",
       "57634    Tak, robią. Na dotacje dla firm farmaceutyczny...\n",
       "57635    >To bardzo smutne, że nie rozumiesz ludzkiej n...\n",
       "57636    „Czy Twój CTO pozwolił dużej grupie użyć „„adm...\n",
       "57637    Zapewnienie rządowi większej kontroli nad dyst...\n",
       "Name: text, Length: 57638, dtype: object"
      ]
     },
     "execution_count": 24,
     "metadata": {},
     "output_type": "execute_result"
    }
   ],
   "source": [
    "df=pd.DataFrame(dataset['corpus'])[\"text\"]\n",
    "df"
   ]
  },
  {
   "cell_type": "markdown",
   "id": "e20e4054",
   "metadata": {},
   "source": [
    "# Devise two regular expressions"
   ]
  },
  {
   "cell_type": "code",
   "execution_count": 307,
   "id": "2f8a547b",
   "metadata": {},
   "outputs": [],
   "source": [
    "def extract_times(text):\n",
    "    expression = r'(([01]?[0-9]|[2][0-3])[:][0-5][0-9])'\n",
    "    return re.findall(expression,text)\n",
    "\n",
    "def extract_dates(text):\n",
    "    #pattern1=r'(0?[1-9]|[1-2][0-9]|3[0-1])\\s+(stycznia|lutego|marca|kwietnia|maja|czerwca|lipca|sierpnia|września|października|listopada|grudnia)'\n",
    "    pattern1=r'(\\d{1,2})\\s+(stycznia|lutego|marca|kwietnia|maja|czerwca|lipca|sierpnia|września|października|listopada|grudnia)'\n",
    "    pattern2 = r'(\\d{2}-\\d{2}-\\d{4})' # DD-MM-YYYY\n",
    "    pattern3 = r'(\\d{4}-\\d{2}-\\d{2})' # YYYY-MM-DD\n",
    "    pattern4 = r'(\\d{2}/\\d{2}/\\d{4})' # DD/MM/YYYY\n",
    "    pattern5 = r'(\\d{4}/\\d{2}/\\d{2})' # YYYY/MM/DD\n",
    "    return re.findall(pattern1, text, re.IGNORECASE)+re.findall(pattern2, text, re.IGNORECASE)+re.findall(pattern3, text, re.IGNORECASE)+re.findall(pattern4, text, re.IGNORECASE)+re.findall(pattern5, text, re.IGNORECASE)"
   ]
  },
  {
   "cell_type": "markdown",
   "id": "5ebc1395",
   "metadata": {},
   "source": [
    "# Search for occurrences of times and dates in the dataset."
   ]
  },
  {
   "cell_type": "code",
   "execution_count": 305,
   "id": "ddaf5775",
   "metadata": {},
   "outputs": [
    {
     "data": {
      "text/plain": [
       "49       [(17:57, 17), (17:57, 17)]\n",
       "137                     [(6:17, 6)]\n",
       "165      [(20:00, 20), (17:00, 17)]\n",
       "191                   [(22:00, 22)]\n",
       "264                   [(12:00, 12)]\n",
       "                    ...            \n",
       "55860    [(15:04, 15), (15:04, 15)]\n",
       "55867    [(16:00, 16), (16:00, 16)]\n",
       "56143                 [(10:17, 10)]\n",
       "56348                   [(5:53, 5)]\n",
       "56444                 [(06:18, 06)]\n",
       "Name: text, Length: 306, dtype: object"
      ]
     },
     "execution_count": 305,
     "metadata": {},
     "output_type": "execute_result"
    }
   ],
   "source": [
    "ex_times=df.apply(extract_times)\n",
    "times=ex_times[ex_times.apply(lambda x: len(x)>0)]\n",
    "times"
   ]
  },
  {
   "cell_type": "code",
   "execution_count": 308,
   "id": "0f5aad43",
   "metadata": {},
   "outputs": [
    {
     "data": {
      "text/plain": [
       "6        [(1, czerwca), (1, sierpnia), (1, sierpnia)]\n",
       "49                           [2017-10-06, 2017-10-06]\n",
       "75                    [(2, kwietnia), (30, kwietnia)]\n",
       "87                           [2017/09/09, 2009/07/09]\n",
       "105                      [(1, grudnia), (1, grudnia)]\n",
       "                             ...                     \n",
       "57360                                 [(1, stycznia)]\n",
       "57448                      [(4, lutego), (31, marca)]\n",
       "57529                                    [2017-06-21]\n",
       "57570                             [(3, października)]\n",
       "57591                                    [2010/11/10]\n",
       "Name: text, Length: 1501, dtype: object"
      ]
     },
     "execution_count": 308,
     "metadata": {},
     "output_type": "execute_result"
    }
   ],
   "source": [
    "ex_dates=df.apply(extract_dates)\n",
    "dates=ex_dates[ex_dates.apply(lambda x: len(x)>0)]\n",
    "dates"
   ]
  },
  {
   "cell_type": "markdown",
   "id": "1e385d6c",
   "metadata": {},
   "source": [
    "# Plot results from point 2:\n",
    "\n"
   ]
  },
  {
   "cell_type": "markdown",
   "id": "c195d17e",
   "metadata": {},
   "source": [
    "## for times create a bar plot for full hours."
   ]
  },
  {
   "cell_type": "code",
   "execution_count": 313,
   "id": "fc2c7a64",
   "metadata": {},
   "outputs": [],
   "source": [
    "full_hours_dict = defaultdict(lambda:0)\n",
    "\n",
    "for row in times:\n",
    "    for element in row:\n",
    "        if \":\" in element[0]:\n",
    "            hour=int(element[0].split(\":\")[0])\n",
    "            full_hours_dict[hour] += 1"
   ]
  },
  {
   "cell_type": "code",
   "execution_count": 314,
   "id": "971cdabc",
   "metadata": {},
   "outputs": [
    {
     "data": {
      "text/plain": [
       "<BarContainer object of 24 artists>"
      ]
     },
     "execution_count": 314,
     "metadata": {},
     "output_type": "execute_result"
    },
    {
     "data": {
      "image/png": "[encoded data removed]",
      "text/plain": [
       "<Figure size 640x480 with 1 Axes>"
      ]
     },
     "metadata": {},
     "output_type": "display_data"
    }
   ],
   "source": [
    "plt.bar(full_hours_dict.keys(),full_hours_dict.values())"
   ]
  },
  {
   "cell_type": "code",
   "execution_count": 311,
   "id": "9e3de379",
   "metadata": {},
   "outputs": [],
   "source": [
    "month_mapping = {\n",
    "    1: 'sty',\n",
    "    2: 'lut',\n",
    "    3: 'mar',\n",
    "    4: 'kwi',\n",
    "    5: 'maj',\n",
    "    6: 'cze',\n",
    "    7: 'lip',\n",
    "    8: 'sie',\n",
    "    9: 'wrz',\n",
    "    10: 'paź',\n",
    "    11: 'lis',\n",
    "    12: 'gru'\n",
    "}\n",
    "\n",
    "months_dict = defaultdict(lambda: 0)\n",
    "\n",
    "for row in dates:\n",
    "    for element in row:\n",
    "        if isinstance(element,tuple):\n",
    "            month_name = element[1][:3].lower()\n",
    "            for key, value in month_mapping.items():\n",
    "                if value == month_name:\n",
    "                    months_dict[value] += 1\n",
    "   \n",
    "        if \"/\" in element or \"-\" in element:\n",
    "            test.append(count)\n",
    "            month =int(re.split(r'[/-]', element)[1])\n",
    "            if month in month_mapping:\n",
    "                test.append(count)\n",
    "                months_dict[month_mapping[month]] += 1\n",
    "                \n",
    "sorted_months_dict = {month: months_dict[month] for month in list(month_mapping.values())}     "
   ]
  },
  {
   "cell_type": "code",
   "execution_count": 319,
   "id": "f1f072f2",
   "metadata": {},
   "outputs": [
    {
     "data": {
      "image/png": "[encoded data removed]",
      "text/plain": [
       "<Figure size 640x480 with 1 Axes>"
      ]
     },
     "metadata": {},
     "output_type": "display_data"
    }
   ],
   "source": [
    "plt.bar(sorted_months_dict.keys(), sorted_months_dict.values())\n",
    "plt.xlabel('Miesiące')\n",
    "plt.ylabel('Liczba wystąpień')\n",
    "plt.xticks(rotation=315)\n",
    "plt.show()"
   ]
  },
  {
   "cell_type": "markdown",
   "id": "34878d2d",
   "metadata": {},
   "source": [
    "# Compute the number of occurrences of styczeń word in any inflectional form. Use a compact form for the query (i.e. joining all forms of the word by alternative is forbidden)."
   ]
  },
  {
   "cell_type": "code",
   "execution_count": 320,
   "id": "a9adea4f",
   "metadata": {},
   "outputs": [],
   "source": [
    "#użyto chatugpt do wygenerowania\n",
    "def count_matches(texts, pattern):\n",
    "    matches: pd.Series = texts.apply(lambda x: regex.findall(pattern, x, re.IGNORECASE))\n",
    "    filtered_matches = matches[matches.apply(lambda x: len(x)>0)]\n",
    "    count = 0\n",
    "    for match_list in filtered_matches:\n",
    "        for match in match_list:\n",
    "            count += 1\n",
    "    return count"
   ]
  },
  {
   "cell_type": "code",
   "execution_count": 321,
   "id": "65f96302",
   "metadata": {},
   "outputs": [
    {
     "data": {
      "text/plain": [
       "955"
      ]
     },
     "execution_count": 321,
     "metadata": {},
     "output_type": "execute_result"
    }
   ],
   "source": [
    "only_styczen=count_matches(df, '(stycz(eń|nia|niowi|niem|niu|nie|niów|ni|niom|niami|niach))')\n",
    "only_styczen"
   ]
  },
  {
   "cell_type": "markdown",
   "id": "b6a96a27",
   "metadata": {},
   "source": [
    "# As in 4, but preceded by a number and a space."
   ]
  },
  {
   "cell_type": "code",
   "execution_count": 322,
   "id": "6d5dd01f",
   "metadata": {},
   "outputs": [
    {
     "data": {
      "text/plain": [
       "215"
      ]
     },
     "execution_count": 322,
     "metadata": {},
     "output_type": "execute_result"
    }
   ],
   "source": [
    "styczen_and_number = count_matches(df, '(((0?[1-9]|[1-2][0-9]|3[0-1]) )stycz(eń|nia|niowi|niem|niu|nie|niów|ni|niom|niami|niach))')\n",
    "styczen_and_number"
   ]
  },
  {
   "cell_type": "markdown",
   "id": "ac0fd6d3",
   "metadata": {},
   "source": [
    "# As in 4, but not preceded by a number and a space. Check if the results from 5 and 6 sum to 4."
   ]
  },
  {
   "cell_type": "code",
   "execution_count": 324,
   "id": "701b071e",
   "metadata": {},
   "outputs": [
    {
     "data": {
      "text/plain": [
       "740"
      ]
     },
     "execution_count": 324,
     "metadata": {},
     "output_type": "execute_result"
    }
   ],
   "source": [
    "styczen_and_not_number_and_space = count_matches(df, '((?<!((0?[1-9]|[1-2][0-9]|3[0-1]) ))stycz(eń|nia|niowi|niem|niu|nie|niów|ni|niom|niami|niach))')\n",
    "styczen_and_not_number_and_space"
   ]
  },
  {
   "cell_type": "code",
   "execution_count": 326,
   "id": "a3ba6f5c",
   "metadata": {},
   "outputs": [
    {
     "data": {
      "text/plain": [
       "True"
      ]
     },
     "execution_count": 326,
     "metadata": {},
     "output_type": "execute_result"
    }
   ],
   "source": [
    "styczen_and_number+styczen_and_not_number_and_space==only_styczen"
   ]
  },
  {
   "cell_type": "markdown",
   "id": "c7c4460a",
   "metadata": {},
   "source": [
    "## Are regular expressions good at capturing times?"
   ]
  },
  {
   "cell_type": "markdown",
   "id": "98ecc0cc",
   "metadata": {},
   "source": [
    "Regular expressions are quite good at capturing times. In our case it was simple format of time and it\n",
    "wasn't difficult to find patterns. Maybe with different formatting, this task would be much harder."
   ]
  },
  {
   "cell_type": "markdown",
   "id": "4560842e",
   "metadata": {},
   "source": [
    "## Are regular expressions good at capturing dates?"
   ]
  },
  {
   "cell_type": "markdown",
   "id": "8e004436",
   "metadata": {},
   "source": [
    "Dates have simple formatting, so u can say that regular expressions are good at capturing dates. The only difficulty is \n",
    "when some documents have some signs or other nomenclature, which are simmilar to date formats or context indicates on \n",
    "something different than date."
   ]
  },
  {
   "cell_type": "markdown",
   "id": "c7e7ff62",
   "metadata": {},
   "source": [
    "## How one can be sure that the expression has matched all and only the correct expressions of a given type?"
   ]
  },
  {
   "cell_type": "markdown",
   "id": "f6002e95",
   "metadata": {},
   "source": [
    "u cannot be 100% sure. For example in the given task, there were some examples that weren't dates, but it was difficult to \n",
    "extract them from large amount of data. You just have to assume that there are always some mismatched expressions."
   ]
  }
 ],
 "metadata": {
  "kernelspec": {
   "display_name": "Python 3 (ipykernel)",
   "language": "python",
   "name": "python3"
  },
  "language_info": {
   "codemirror_mode": {
    "name": "ipython",
    "version": 3
   },
   "file_extension": ".py",
   "mimetype": "text/x-python",
   "name": "python",
   "nbconvert_exporter": "python",
   "pygments_lexer": "ipython3",
   "version": "3.11.5"
  }
 },
 "nbformat": 4,
 "nbformat_minor": 5
}
