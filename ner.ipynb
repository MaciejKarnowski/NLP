{
  "nbformat": 4,
  "nbformat_minor": 0,
  "metadata": {
    "colab": {
      "provenance": []
    },
    "kernelspec": {
      "name": "python3",
      "display_name": "Python 3"
    },
    "language_info": {
      "name": "python"
    },
    "widgets": {
      "application/vnd.jupyter.widget-state+json": {
        "0d5787d460794610b9cebaa80cd20d74": {
          "model_module": "@jupyter-widgets/controls",
          "model_name": "HBoxModel",
          "model_module_version": "1.5.0",
          "state": {
            "_dom_classes": [],
            "_model_module": "@jupyter-widgets/controls",
            "_model_module_version": "1.5.0",
            "_model_name": "HBoxModel",
            "_view_count": null,
            "_view_module": "@jupyter-widgets/controls",
            "_view_module_version": "1.5.0",
            "_view_name": "HBoxView",
            "box_style": "",
            "children": [
              "IPY_MODEL_937974e2700c47ac85a851a6e2f02df0",
              "IPY_MODEL_2574286f4c3e4ad8990e34de347405a7",
              "IPY_MODEL_a5f0cbf92fc849c285dbcbd5f940e0c8"
            ],
            "layout": "IPY_MODEL_d8107eb747f54ad6b48b706817defcb3"
          }
        },
        "937974e2700c47ac85a851a6e2f02df0": {
          "model_module": "@jupyter-widgets/controls",
          "model_name": "HTMLModel",
          "model_module_version": "1.5.0",
          "state": {
            "_dom_classes": [],
            "_model_module": "@jupyter-widgets/controls",
            "_model_module_version": "1.5.0",
            "_model_name": "HTMLModel",
            "_view_count": null,
            "_view_module": "@jupyter-widgets/controls",
            "_view_module_version": "1.5.0",
            "_view_name": "HTMLView",
            "description": "",
            "description_tooltip": null,
            "layout": "IPY_MODEL_3db95eb3582048b3bc4e888c6aa45de8",
            "placeholder": "​",
            "style": "IPY_MODEL_a37395cc884d4a6391e408a21c34ee4a",
            "value": "Downloading builder script: 100%"
          }
        },
        "2574286f4c3e4ad8990e34de347405a7": {
          "model_module": "@jupyter-widgets/controls",
          "model_name": "FloatProgressModel",
          "model_module_version": "1.5.0",
          "state": {
            "_dom_classes": [],
            "_model_module": "@jupyter-widgets/controls",
            "_model_module_version": "1.5.0",
            "_model_name": "FloatProgressModel",
            "_view_count": null,
            "_view_module": "@jupyter-widgets/controls",
            "_view_module_version": "1.5.0",
            "_view_name": "ProgressView",
            "bar_style": "success",
            "description": "",
            "description_tooltip": null,
            "layout": "IPY_MODEL_83d2d2355cc241cab666c8f6162a506e",
            "max": 1668,
            "min": 0,
            "orientation": "horizontal",
            "style": "IPY_MODEL_942f5c254db941a88f88f292a05b5222",
            "value": 1668
          }
        },
        "a5f0cbf92fc849c285dbcbd5f940e0c8": {
          "model_module": "@jupyter-widgets/controls",
          "model_name": "HTMLModel",
          "model_module_version": "1.5.0",
          "state": {
            "_dom_classes": [],
            "_model_module": "@jupyter-widgets/controls",
            "_model_module_version": "1.5.0",
            "_model_name": "HTMLModel",
            "_view_count": null,
            "_view_module": "@jupyter-widgets/controls",
            "_view_module_version": "1.5.0",
            "_view_name": "HTMLView",
            "description": "",
            "description_tooltip": null,
            "layout": "IPY_MODEL_59a1a89344ce4fd3b28762fa8f3a5b16",
            "placeholder": "​",
            "style": "IPY_MODEL_61c1390232c54707be7c8e54b67772c5",
            "value": " 1.67k/1.67k [00:00&lt;00:00, 96.9kB/s]"
          }
        },
        "d8107eb747f54ad6b48b706817defcb3": {
          "model_module": "@jupyter-widgets/base",
          "model_name": "LayoutModel",
          "model_module_version": "1.2.0",
          "state": {
            "_model_module": "@jupyter-widgets/base",
            "_model_module_version": "1.2.0",
            "_model_name": "LayoutModel",
            "_view_count": null,
            "_view_module": "@jupyter-widgets/base",
            "_view_module_version": "1.2.0",
            "_view_name": "LayoutView",
            "align_content": null,
            "align_items": null,
            "align_self": null,
            "border": null,
            "bottom": null,
            "display": null,
            "flex": null,
            "flex_flow": null,
            "grid_area": null,
            "grid_auto_columns": null,
            "grid_auto_flow": null,
            "grid_auto_rows": null,
            "grid_column": null,
            "grid_gap": null,
            "grid_row": null,
            "grid_template_areas": null,
            "grid_template_columns": null,
            "grid_template_rows": null,
            "height": null,
            "justify_content": null,
            "justify_items": null,
            "left": null,
            "margin": null,
            "max_height": null,
            "max_width": null,
            "min_height": null,
            "min_width": null,
            "object_fit": null,
            "object_position": null,
            "order": null,
            "overflow": null,
            "overflow_x": null,
            "overflow_y": null,
            "padding": null,
            "right": null,
            "top": null,
            "visibility": null,
            "width": null
          }
        },
        "3db95eb3582048b3bc4e888c6aa45de8": {
          "model_module": "@jupyter-widgets/base",
          "model_name": "LayoutModel",
          "model_module_version": "1.2.0",
          "state": {
            "_model_module": "@jupyter-widgets/base",
            "_model_module_version": "1.2.0",
            "_model_name": "LayoutModel",
            "_view_count": null,
            "_view_module": "@jupyter-widgets/base",
            "_view_module_version": "1.2.0",
            "_view_name": "LayoutView",
            "align_content": null,
            "align_items": null,
            "align_self": null,
            "border": null,
            "bottom": null,
            "display": null,
            "flex": null,
            "flex_flow": null,
            "grid_area": null,
            "grid_auto_columns": null,
            "grid_auto_flow": null,
            "grid_auto_rows": null,
            "grid_column": null,
            "grid_gap": null,
            "grid_row": null,
            "grid_template_areas": null,
            "grid_template_columns": null,
            "grid_template_rows": null,
            "height": null,
            "justify_content": null,
            "justify_items": null,
            "left": null,
            "margin": null,
            "max_height": null,
            "max_width": null,
            "min_height": null,
            "min_width": null,
            "object_fit": null,
            "object_position": null,
            "order": null,
            "overflow": null,
            "overflow_x": null,
            "overflow_y": null,
            "padding": null,
            "right": null,
            "top": null,
            "visibility": null,
            "width": null
          }
        },
        "a37395cc884d4a6391e408a21c34ee4a": {
          "model_module": "@jupyter-widgets/controls",
          "model_name": "DescriptionStyleModel",
          "model_module_version": "1.5.0",
          "state": {
            "_model_module": "@jupyter-widgets/controls",
            "_model_module_version": "1.5.0",
            "_model_name": "DescriptionStyleModel",
            "_view_count": null,
            "_view_module": "@jupyter-widgets/base",
            "_view_module_version": "1.2.0",
            "_view_name": "StyleView",
            "description_width": ""
          }
        },
        "83d2d2355cc241cab666c8f6162a506e": {
          "model_module": "@jupyter-widgets/base",
          "model_name": "LayoutModel",
          "model_module_version": "1.2.0",
          "state": {
            "_model_module": "@jupyter-widgets/base",
            "_model_module_version": "1.2.0",
            "_model_name": "LayoutModel",
            "_view_count": null,
            "_view_module": "@jupyter-widgets/base",
            "_view_module_version": "1.2.0",
            "_view_name": "LayoutView",
            "align_content": null,
            "align_items": null,
            "align_self": null,
            "border": null,
            "bottom": null,
            "display": null,
            "flex": null,
            "flex_flow": null,
            "grid_area": null,
            "grid_auto_columns": null,
            "grid_auto_flow": null,
            "grid_auto_rows": null,
            "grid_column": null,
            "grid_gap": null,
            "grid_row": null,
            "grid_template_areas": null,
            "grid_template_columns": null,
            "grid_template_rows": null,
            "height": null,
            "justify_content": null,
            "justify_items": null,
            "left": null,
            "margin": null,
            "max_height": null,
            "max_width": null,
            "min_height": null,
            "min_width": null,
            "object_fit": null,
            "object_position": null,
            "order": null,
            "overflow": null,
            "overflow_x": null,
            "overflow_y": null,
            "padding": null,
            "right": null,
            "top": null,
            "visibility": null,
            "width": null
          }
        },
        "942f5c254db941a88f88f292a05b5222": {
          "model_module": "@jupyter-widgets/controls",
          "model_name": "ProgressStyleModel",
          "model_module_version": "1.5.0",
          "state": {
            "_model_module": "@jupyter-widgets/controls",
            "_model_module_version": "1.5.0",
            "_model_name": "ProgressStyleModel",
            "_view_count": null,
            "_view_module": "@jupyter-widgets/base",
            "_view_module_version": "1.2.0",
            "_view_name": "StyleView",
            "bar_color": null,
            "description_width": ""
          }
        },
        "59a1a89344ce4fd3b28762fa8f3a5b16": {
          "model_module": "@jupyter-widgets/base",
          "model_name": "LayoutModel",
          "model_module_version": "1.2.0",
          "state": {
            "_model_module": "@jupyter-widgets/base",
            "_model_module_version": "1.2.0",
            "_model_name": "LayoutModel",
            "_view_count": null,
            "_view_module": "@jupyter-widgets/base",
            "_view_module_version": "1.2.0",
            "_view_name": "LayoutView",
            "align_content": null,
            "align_items": null,
            "align_self": null,
            "border": null,
            "bottom": null,
            "display": null,
            "flex": null,
            "flex_flow": null,
            "grid_area": null,
            "grid_auto_columns": null,
            "grid_auto_flow": null,
            "grid_auto_rows": null,
            "grid_column": null,
            "grid_gap": null,
            "grid_row": null,
            "grid_template_areas": null,
            "grid_template_columns": null,
            "grid_template_rows": null,
            "height": null,
            "justify_content": null,
            "justify_items": null,
            "left": null,
            "margin": null,
            "max_height": null,
            "max_width": null,
            "min_height": null,
            "min_width": null,
            "object_fit": null,
            "object_position": null,
            "order": null,
            "overflow": null,
            "overflow_x": null,
            "overflow_y": null,
            "padding": null,
            "right": null,
            "top": null,
            "visibility": null,
            "width": null
          }
        },
        "61c1390232c54707be7c8e54b67772c5": {
          "model_module": "@jupyter-widgets/controls",
          "model_name": "DescriptionStyleModel",
          "model_module_version": "1.5.0",
          "state": {
            "_model_module": "@jupyter-widgets/controls",
            "_model_module_version": "1.5.0",
            "_model_name": "DescriptionStyleModel",
            "_view_count": null,
            "_view_module": "@jupyter-widgets/base",
            "_view_module_version": "1.2.0",
            "_view_name": "StyleView",
            "description_width": ""
          }
        },
        "8744845954754d2ab0e26420e03892ac": {
          "model_module": "@jupyter-widgets/controls",
          "model_name": "HBoxModel",
          "model_module_version": "1.5.0",
          "state": {
            "_dom_classes": [],
            "_model_module": "@jupyter-widgets/controls",
            "_model_module_version": "1.5.0",
            "_model_name": "HBoxModel",
            "_view_count": null,
            "_view_module": "@jupyter-widgets/controls",
            "_view_module_version": "1.5.0",
            "_view_name": "HBoxView",
            "box_style": "",
            "children": [
              "IPY_MODEL_f37a6945bae1457ab29e7f0d5f189dfd",
              "IPY_MODEL_785d1c9e9e1745fcba118f14310a6c70",
              "IPY_MODEL_d9675548ad5645b9b9248d40819a62ae"
            ],
            "layout": "IPY_MODEL_997d9322b9f447db922932c853afa441"
          }
        },
        "f37a6945bae1457ab29e7f0d5f189dfd": {
          "model_module": "@jupyter-widgets/controls",
          "model_name": "HTMLModel",
          "model_module_version": "1.5.0",
          "state": {
            "_dom_classes": [],
            "_model_module": "@jupyter-widgets/controls",
            "_model_module_version": "1.5.0",
            "_model_name": "HTMLModel",
            "_view_count": null,
            "_view_module": "@jupyter-widgets/controls",
            "_view_module_version": "1.5.0",
            "_view_name": "HTMLView",
            "description": "",
            "description_tooltip": null,
            "layout": "IPY_MODEL_a5ce5140122a4e329135a018df70c152",
            "placeholder": "​",
            "style": "IPY_MODEL_94239e34af5248cbab7cd8ef1a7be2b0",
            "value": "Downloading readme: 100%"
          }
        },
        "785d1c9e9e1745fcba118f14310a6c70": {
          "model_module": "@jupyter-widgets/controls",
          "model_name": "FloatProgressModel",
          "model_module_version": "1.5.0",
          "state": {
            "_dom_classes": [],
            "_model_module": "@jupyter-widgets/controls",
            "_model_module_version": "1.5.0",
            "_model_name": "FloatProgressModel",
            "_view_count": null,
            "_view_module": "@jupyter-widgets/controls",
            "_view_module_version": "1.5.0",
            "_view_name": "ProgressView",
            "bar_style": "success",
            "description": "",
            "description_tooltip": null,
            "layout": "IPY_MODEL_35191d51e49841b3a73addacf688577e",
            "max": 201,
            "min": 0,
            "orientation": "horizontal",
            "style": "IPY_MODEL_4d42a5ca446c47f5a2a0e5304b73b33d",
            "value": 201
          }
        },
        "d9675548ad5645b9b9248d40819a62ae": {
          "model_module": "@jupyter-widgets/controls",
          "model_name": "HTMLModel",
          "model_module_version": "1.5.0",
          "state": {
            "_dom_classes": [],
            "_model_module": "@jupyter-widgets/controls",
            "_model_module_version": "1.5.0",
            "_model_name": "HTMLModel",
            "_view_count": null,
            "_view_module": "@jupyter-widgets/controls",
            "_view_module_version": "1.5.0",
            "_view_name": "HTMLView",
            "description": "",
            "description_tooltip": null,
            "layout": "IPY_MODEL_f08bda9dc2ea468aa6f3520472664050",
            "placeholder": "​",
            "style": "IPY_MODEL_2a3a39384ad34e139146137b3c3aca78",
            "value": " 201/201 [00:00&lt;00:00, 9.76kB/s]"
          }
        },
        "997d9322b9f447db922932c853afa441": {
          "model_module": "@jupyter-widgets/base",
          "model_name": "LayoutModel",
          "model_module_version": "1.2.0",
          "state": {
            "_model_module": "@jupyter-widgets/base",
            "_model_module_version": "1.2.0",
            "_model_name": "LayoutModel",
            "_view_count": null,
            "_view_module": "@jupyter-widgets/base",
            "_view_module_version": "1.2.0",
            "_view_name": "LayoutView",
            "align_content": null,
            "align_items": null,
            "align_self": null,
            "border": null,
            "bottom": null,
            "display": null,
            "flex": null,
            "flex_flow": null,
            "grid_area": null,
            "grid_auto_columns": null,
            "grid_auto_flow": null,
            "grid_auto_rows": null,
            "grid_column": null,
            "grid_gap": null,
            "grid_row": null,
            "grid_template_areas": null,
            "grid_template_columns": null,
            "grid_template_rows": null,
            "height": null,
            "justify_content": null,
            "justify_items": null,
            "left": null,
            "margin": null,
            "max_height": null,
            "max_width": null,
            "min_height": null,
            "min_width": null,
            "object_fit": null,
            "object_position": null,
            "order": null,
            "overflow": null,
            "overflow_x": null,
            "overflow_y": null,
            "padding": null,
            "right": null,
            "top": null,
            "visibility": null,
            "width": null
          }
        },
        "a5ce5140122a4e329135a018df70c152": {
          "model_module": "@jupyter-widgets/base",
          "model_name": "LayoutModel",
          "model_module_version": "1.2.0",
          "state": {
            "_model_module": "@jupyter-widgets/base",
            "_model_module_version": "1.2.0",
            "_model_name": "LayoutModel",
            "_view_count": null,
            "_view_module": "@jupyter-widgets/base",
            "_view_module_version": "1.2.0",
            "_view_name": "LayoutView",
            "align_content": null,
            "align_items": null,
            "align_self": null,
            "border": null,
            "bottom": null,
            "display": null,
            "flex": null,
            "flex_flow": null,
            "grid_area": null,
            "grid_auto_columns": null,
            "grid_auto_flow": null,
            "grid_auto_rows": null,
            "grid_column": null,
            "grid_gap": null,
            "grid_row": null,
            "grid_template_areas": null,
            "grid_template_columns": null,
            "grid_template_rows": null,
            "height": null,
            "justify_content": null,
            "justify_items": null,
            "left": null,
            "margin": null,
            "max_height": null,
            "max_width": null,
            "min_height": null,
            "min_width": null,
            "object_fit": null,
            "object_position": null,
            "order": null,
            "overflow": null,
            "overflow_x": null,
            "overflow_y": null,
            "padding": null,
            "right": null,
            "top": null,
            "visibility": null,
            "width": null
          }
        },
        "94239e34af5248cbab7cd8ef1a7be2b0": {
          "model_module": "@jupyter-widgets/controls",
          "model_name": "DescriptionStyleModel",
          "model_module_version": "1.5.0",
          "state": {
            "_model_module": "@jupyter-widgets/controls",
            "_model_module_version": "1.5.0",
            "_model_name": "DescriptionStyleModel",
            "_view_count": null,
            "_view_module": "@jupyter-widgets/base",
            "_view_module_version": "1.2.0",
            "_view_name": "StyleView",
            "description_width": ""
          }
        },
        "35191d51e49841b3a73addacf688577e": {
          "model_module": "@jupyter-widgets/base",
          "model_name": "LayoutModel",
          "model_module_version": "1.2.0",
          "state": {
            "_model_module": "@jupyter-widgets/base",
            "_model_module_version": "1.2.0",
            "_model_name": "LayoutModel",
            "_view_count": null,
            "_view_module": "@jupyter-widgets/base",
            "_view_module_version": "1.2.0",
            "_view_name": "LayoutView",
            "align_content": null,
            "align_items": null,
            "align_self": null,
            "border": null,
            "bottom": null,
            "display": null,
            "flex": null,
            "flex_flow": null,
            "grid_area": null,
            "grid_auto_columns": null,
            "grid_auto_flow": null,
            "grid_auto_rows": null,
            "grid_column": null,
            "grid_gap": null,
            "grid_row": null,
            "grid_template_areas": null,
            "grid_template_columns": null,
            "grid_template_rows": null,
            "height": null,
            "justify_content": null,
            "justify_items": null,
            "left": null,
            "margin": null,
            "max_height": null,
            "max_width": null,
            "min_height": null,
            "min_width": null,
            "object_fit": null,
            "object_position": null,
            "order": null,
            "overflow": null,
            "overflow_x": null,
            "overflow_y": null,
            "padding": null,
            "right": null,
            "top": null,
            "visibility": null,
            "width": null
          }
        },
        "4d42a5ca446c47f5a2a0e5304b73b33d": {
          "model_module": "@jupyter-widgets/controls",
          "model_name": "ProgressStyleModel",
          "model_module_version": "1.5.0",
          "state": {
            "_model_module": "@jupyter-widgets/controls",
            "_model_module_version": "1.5.0",
            "_model_name": "ProgressStyleModel",
            "_view_count": null,
            "_view_module": "@jupyter-widgets/base",
            "_view_module_version": "1.2.0",
            "_view_name": "StyleView",
            "bar_color": null,
            "description_width": ""
          }
        },
        "f08bda9dc2ea468aa6f3520472664050": {
          "model_module": "@jupyter-widgets/base",
          "model_name": "LayoutModel",
          "model_module_version": "1.2.0",
          "state": {
            "_model_module": "@jupyter-widgets/base",
            "_model_module_version": "1.2.0",
            "_model_name": "LayoutModel",
            "_view_count": null,
            "_view_module": "@jupyter-widgets/base",
            "_view_module_version": "1.2.0",
            "_view_name": "LayoutView",
            "align_content": null,
            "align_items": null,
            "align_self": null,
            "border": null,
            "bottom": null,
            "display": null,
            "flex": null,
            "flex_flow": null,
            "grid_area": null,
            "grid_auto_columns": null,
            "grid_auto_flow": null,
            "grid_auto_rows": null,
            "grid_column": null,
            "grid_gap": null,
            "grid_row": null,
            "grid_template_areas": null,
            "grid_template_columns": null,
            "grid_template_rows": null,
            "height": null,
            "justify_content": null,
            "justify_items": null,
            "left": null,
            "margin": null,
            "max_height": null,
            "max_width": null,
            "min_height": null,
            "min_width": null,
            "object_fit": null,
            "object_position": null,
            "order": null,
            "overflow": null,
            "overflow_x": null,
            "overflow_y": null,
            "padding": null,
            "right": null,
            "top": null,
            "visibility": null,
            "width": null
          }
        },
        "2a3a39384ad34e139146137b3c3aca78": {
          "model_module": "@jupyter-widgets/controls",
          "model_name": "DescriptionStyleModel",
          "model_module_version": "1.5.0",
          "state": {
            "_model_module": "@jupyter-widgets/controls",
            "_model_module_version": "1.5.0",
            "_model_name": "DescriptionStyleModel",
            "_view_count": null,
            "_view_module": "@jupyter-widgets/base",
            "_view_module_version": "1.2.0",
            "_view_name": "StyleView",
            "description_width": ""
          }
        },
        "22e254a68ea94ac78615045ab643495a": {
          "model_module": "@jupyter-widgets/controls",
          "model_name": "HBoxModel",
          "model_module_version": "1.5.0",
          "state": {
            "_dom_classes": [],
            "_model_module": "@jupyter-widgets/controls",
            "_model_module_version": "1.5.0",
            "_model_name": "HBoxModel",
            "_view_count": null,
            "_view_module": "@jupyter-widgets/controls",
            "_view_module_version": "1.5.0",
            "_view_name": "HBoxView",
            "box_style": "",
            "children": [
              "IPY_MODEL_5d70de030c5b4997af6240ba549fa6fb",
              "IPY_MODEL_aaa66012fb24435e9efccc8711594fe8",
              "IPY_MODEL_b9eee7c6e9b74064abfb07fbf782be3f"
            ],
            "layout": "IPY_MODEL_dfc85cae64254c3ca83477eff61e4af5"
          }
        },
        "5d70de030c5b4997af6240ba549fa6fb": {
          "model_module": "@jupyter-widgets/controls",
          "model_name": "HTMLModel",
          "model_module_version": "1.5.0",
          "state": {
            "_dom_classes": [],
            "_model_module": "@jupyter-widgets/controls",
            "_model_module_version": "1.5.0",
            "_model_name": "HTMLModel",
            "_view_count": null,
            "_view_module": "@jupyter-widgets/controls",
            "_view_module_version": "1.5.0",
            "_view_name": "HTMLView",
            "description": "",
            "description_tooltip": null,
            "layout": "IPY_MODEL_0c1d424d659f45b4b225e2227d762468",
            "placeholder": "​",
            "style": "IPY_MODEL_09d669cb195f4a9ab29111b4548384f2",
            "value": "Downloading data: 100%"
          }
        },
        "aaa66012fb24435e9efccc8711594fe8": {
          "model_module": "@jupyter-widgets/controls",
          "model_name": "FloatProgressModel",
          "model_module_version": "1.5.0",
          "state": {
            "_dom_classes": [],
            "_model_module": "@jupyter-widgets/controls",
            "_model_module_version": "1.5.0",
            "_model_name": "FloatProgressModel",
            "_view_count": null,
            "_view_module": "@jupyter-widgets/controls",
            "_view_module_version": "1.5.0",
            "_view_name": "ProgressView",
            "bar_style": "success",
            "description": "",
            "description_tooltip": null,
            "layout": "IPY_MODEL_0c46181d01864239a8742d97047c8ead",
            "max": 19454315,
            "min": 0,
            "orientation": "horizontal",
            "style": "IPY_MODEL_c663cf84a134412384f62a54b102e10b",
            "value": 19454315
          }
        },
        "b9eee7c6e9b74064abfb07fbf782be3f": {
          "model_module": "@jupyter-widgets/controls",
          "model_name": "HTMLModel",
          "model_module_version": "1.5.0",
          "state": {
            "_dom_classes": [],
            "_model_module": "@jupyter-widgets/controls",
            "_model_module_version": "1.5.0",
            "_model_name": "HTMLModel",
            "_view_count": null,
            "_view_module": "@jupyter-widgets/controls",
            "_view_module_version": "1.5.0",
            "_view_name": "HTMLView",
            "description": "",
            "description_tooltip": null,
            "layout": "IPY_MODEL_8d87741a96bf430088ff5f358f154c30",
            "placeholder": "​",
            "style": "IPY_MODEL_ac274815820d433c8d208cb21780c236",
            "value": " 19.5M/19.5M [00:00&lt;00:00, 33.3MB/s]"
          }
        },
        "dfc85cae64254c3ca83477eff61e4af5": {
          "model_module": "@jupyter-widgets/base",
          "model_name": "LayoutModel",
          "model_module_version": "1.2.0",
          "state": {
            "_model_module": "@jupyter-widgets/base",
            "_model_module_version": "1.2.0",
            "_model_name": "LayoutModel",
            "_view_count": null,
            "_view_module": "@jupyter-widgets/base",
            "_view_module_version": "1.2.0",
            "_view_name": "LayoutView",
            "align_content": null,
            "align_items": null,
            "align_self": null,
            "border": null,
            "bottom": null,
            "display": null,
            "flex": null,
            "flex_flow": null,
            "grid_area": null,
            "grid_auto_columns": null,
            "grid_auto_flow": null,
            "grid_auto_rows": null,
            "grid_column": null,
            "grid_gap": null,
            "grid_row": null,
            "grid_template_areas": null,
            "grid_template_columns": null,
            "grid_template_rows": null,
            "height": null,
            "justify_content": null,
            "justify_items": null,
            "left": null,
            "margin": null,
            "max_height": null,
            "max_width": null,
            "min_height": null,
            "min_width": null,
            "object_fit": null,
            "object_position": null,
            "order": null,
            "overflow": null,
            "overflow_x": null,
            "overflow_y": null,
            "padding": null,
            "right": null,
            "top": null,
            "visibility": null,
            "width": null
          }
        },
        "0c1d424d659f45b4b225e2227d762468": {
          "model_module": "@jupyter-widgets/base",
          "model_name": "LayoutModel",
          "model_module_version": "1.2.0",
          "state": {
            "_model_module": "@jupyter-widgets/base",
            "_model_module_version": "1.2.0",
            "_model_name": "LayoutModel",
            "_view_count": null,
            "_view_module": "@jupyter-widgets/base",
            "_view_module_version": "1.2.0",
            "_view_name": "LayoutView",
            "align_content": null,
            "align_items": null,
            "align_self": null,
            "border": null,
            "bottom": null,
            "display": null,
            "flex": null,
            "flex_flow": null,
            "grid_area": null,
            "grid_auto_columns": null,
            "grid_auto_flow": null,
            "grid_auto_rows": null,
            "grid_column": null,
            "grid_gap": null,
            "grid_row": null,
            "grid_template_areas": null,
            "grid_template_columns": null,
            "grid_template_rows": null,
            "height": null,
            "justify_content": null,
            "justify_items": null,
            "left": null,
            "margin": null,
            "max_height": null,
            "max_width": null,
            "min_height": null,
            "min_width": null,
            "object_fit": null,
            "object_position": null,
            "order": null,
            "overflow": null,
            "overflow_x": null,
            "overflow_y": null,
            "padding": null,
            "right": null,
            "top": null,
            "visibility": null,
            "width": null
          }
        },
        "09d669cb195f4a9ab29111b4548384f2": {
          "model_module": "@jupyter-widgets/controls",
          "model_name": "DescriptionStyleModel",
          "model_module_version": "1.5.0",
          "state": {
            "_model_module": "@jupyter-widgets/controls",
            "_model_module_version": "1.5.0",
            "_model_name": "DescriptionStyleModel",
            "_view_count": null,
            "_view_module": "@jupyter-widgets/base",
            "_view_module_version": "1.2.0",
            "_view_name": "StyleView",
            "description_width": ""
          }
        },
        "0c46181d01864239a8742d97047c8ead": {
          "model_module": "@jupyter-widgets/base",
          "model_name": "LayoutModel",
          "model_module_version": "1.2.0",
          "state": {
            "_model_module": "@jupyter-widgets/base",
            "_model_module_version": "1.2.0",
            "_model_name": "LayoutModel",
            "_view_count": null,
            "_view_module": "@jupyter-widgets/base",
            "_view_module_version": "1.2.0",
            "_view_name": "LayoutView",
            "align_content": null,
            "align_items": null,
            "align_self": null,
            "border": null,
            "bottom": null,
            "display": null,
            "flex": null,
            "flex_flow": null,
            "grid_area": null,
            "grid_auto_columns": null,
            "grid_auto_flow": null,
            "grid_auto_rows": null,
            "grid_column": null,
            "grid_gap": null,
            "grid_row": null,
            "grid_template_areas": null,
            "grid_template_columns": null,
            "grid_template_rows": null,
            "height": null,
            "justify_content": null,
            "justify_items": null,
            "left": null,
            "margin": null,
            "max_height": null,
            "max_width": null,
            "min_height": null,
            "min_width": null,
            "object_fit": null,
            "object_position": null,
            "order": null,
            "overflow": null,
            "overflow_x": null,
            "overflow_y": null,
            "padding": null,
            "right": null,
            "top": null,
            "visibility": null,
            "width": null
          }
        },
        "c663cf84a134412384f62a54b102e10b": {
          "model_module": "@jupyter-widgets/controls",
          "model_name": "ProgressStyleModel",
          "model_module_version": "1.5.0",
          "state": {
            "_model_module": "@jupyter-widgets/controls",
            "_model_module_version": "1.5.0",
            "_model_name": "ProgressStyleModel",
            "_view_count": null,
            "_view_module": "@jupyter-widgets/base",
            "_view_module_version": "1.2.0",
            "_view_name": "StyleView",
            "bar_color": null,
            "description_width": ""
          }
        },
        "8d87741a96bf430088ff5f358f154c30": {
          "model_module": "@jupyter-widgets/base",
          "model_name": "LayoutModel",
          "model_module_version": "1.2.0",
          "state": {
            "_model_module": "@jupyter-widgets/base",
            "_model_module_version": "1.2.0",
            "_model_name": "LayoutModel",
            "_view_count": null,
            "_view_module": "@jupyter-widgets/base",
            "_view_module_version": "1.2.0",
            "_view_name": "LayoutView",
            "align_content": null,
            "align_items": null,
            "align_self": null,
            "border": null,
            "bottom": null,
            "display": null,
            "flex": null,
            "flex_flow": null,
            "grid_area": null,
            "grid_auto_columns": null,
            "grid_auto_flow": null,
            "grid_auto_rows": null,
            "grid_column": null,
            "grid_gap": null,
            "grid_row": null,
            "grid_template_areas": null,
            "grid_template_columns": null,
            "grid_template_rows": null,
            "height": null,
            "justify_content": null,
            "justify_items": null,
            "left": null,
            "margin": null,
            "max_height": null,
            "max_width": null,
            "min_height": null,
            "min_width": null,
            "object_fit": null,
            "object_position": null,
            "order": null,
            "overflow": null,
            "overflow_x": null,
            "overflow_y": null,
            "padding": null,
            "right": null,
            "top": null,
            "visibility": null,
            "width": null
          }
        },
        "ac274815820d433c8d208cb21780c236": {
          "model_module": "@jupyter-widgets/controls",
          "model_name": "DescriptionStyleModel",
          "model_module_version": "1.5.0",
          "state": {
            "_model_module": "@jupyter-widgets/controls",
            "_model_module_version": "1.5.0",
            "_model_name": "DescriptionStyleModel",
            "_view_count": null,
            "_view_module": "@jupyter-widgets/base",
            "_view_module_version": "1.2.0",
            "_view_name": "StyleView",
            "description_width": ""
          }
        },
        "6d1d1c0fc3b943b6be5923bf6f4a5785": {
          "model_module": "@jupyter-widgets/controls",
          "model_name": "HBoxModel",
          "model_module_version": "1.5.0",
          "state": {
            "_dom_classes": [],
            "_model_module": "@jupyter-widgets/controls",
            "_model_module_version": "1.5.0",
            "_model_name": "HBoxModel",
            "_view_count": null,
            "_view_module": "@jupyter-widgets/controls",
            "_view_module_version": "1.5.0",
            "_view_name": "HBoxView",
            "box_style": "",
            "children": [
              "IPY_MODEL_cbab61320ecf4e30a5a20ed052800a37",
              "IPY_MODEL_c2a87dc267d14c30bddca01a1d09017e",
              "IPY_MODEL_9c1519c9683a4da781e56fb631451971"
            ],
            "layout": "IPY_MODEL_0059130f50254b878857758db07085b6"
          }
        },
        "cbab61320ecf4e30a5a20ed052800a37": {
          "model_module": "@jupyter-widgets/controls",
          "model_name": "HTMLModel",
          "model_module_version": "1.5.0",
          "state": {
            "_dom_classes": [],
            "_model_module": "@jupyter-widgets/controls",
            "_model_module_version": "1.5.0",
            "_model_name": "HTMLModel",
            "_view_count": null,
            "_view_module": "@jupyter-widgets/controls",
            "_view_module_version": "1.5.0",
            "_view_name": "HTMLView",
            "description": "",
            "description_tooltip": null,
            "layout": "IPY_MODEL_41e62e0ca7d4402c9686eadf67b1c992",
            "placeholder": "​",
            "style": "IPY_MODEL_64b9cbf384744e07aafea859f119ec94",
            "value": "Generating corpus split: "
          }
        },
        "c2a87dc267d14c30bddca01a1d09017e": {
          "model_module": "@jupyter-widgets/controls",
          "model_name": "FloatProgressModel",
          "model_module_version": "1.5.0",
          "state": {
            "_dom_classes": [],
            "_model_module": "@jupyter-widgets/controls",
            "_model_module_version": "1.5.0",
            "_model_name": "FloatProgressModel",
            "_view_count": null,
            "_view_module": "@jupyter-widgets/controls",
            "_view_module_version": "1.5.0",
            "_view_name": "ProgressView",
            "bar_style": "success",
            "description": "",
            "description_tooltip": null,
            "layout": "IPY_MODEL_97688a4dd80a46648b1d66d3d435b8e9",
            "max": 1,
            "min": 0,
            "orientation": "horizontal",
            "style": "IPY_MODEL_a862890c223a4e03bc60812317a8803f",
            "value": 1
          }
        },
        "9c1519c9683a4da781e56fb631451971": {
          "model_module": "@jupyter-widgets/controls",
          "model_name": "HTMLModel",
          "model_module_version": "1.5.0",
          "state": {
            "_dom_classes": [],
            "_model_module": "@jupyter-widgets/controls",
            "_model_module_version": "1.5.0",
            "_model_name": "HTMLModel",
            "_view_count": null,
            "_view_module": "@jupyter-widgets/controls",
            "_view_module_version": "1.5.0",
            "_view_name": "HTMLView",
            "description": "",
            "description_tooltip": null,
            "layout": "IPY_MODEL_f13810a36b1e46cda706b672355674a9",
            "placeholder": "​",
            "style": "IPY_MODEL_985aba76aa7d415daf55c662057b0a98",
            "value": " 57638/0 [00:03&lt;00:00, 21890.32 examples/s]"
          }
        },
        "0059130f50254b878857758db07085b6": {
          "model_module": "@jupyter-widgets/base",
          "model_name": "LayoutModel",
          "model_module_version": "1.2.0",
          "state": {
            "_model_module": "@jupyter-widgets/base",
            "_model_module_version": "1.2.0",
            "_model_name": "LayoutModel",
            "_view_count": null,
            "_view_module": "@jupyter-widgets/base",
            "_view_module_version": "1.2.0",
            "_view_name": "LayoutView",
            "align_content": null,
            "align_items": null,
            "align_self": null,
            "border": null,
            "bottom": null,
            "display": null,
            "flex": null,
            "flex_flow": null,
            "grid_area": null,
            "grid_auto_columns": null,
            "grid_auto_flow": null,
            "grid_auto_rows": null,
            "grid_column": null,
            "grid_gap": null,
            "grid_row": null,
            "grid_template_areas": null,
            "grid_template_columns": null,
            "grid_template_rows": null,
            "height": null,
            "justify_content": null,
            "justify_items": null,
            "left": null,
            "margin": null,
            "max_height": null,
            "max_width": null,
            "min_height": null,
            "min_width": null,
            "object_fit": null,
            "object_position": null,
            "order": null,
            "overflow": null,
            "overflow_x": null,
            "overflow_y": null,
            "padding": null,
            "right": null,
            "top": null,
            "visibility": null,
            "width": null
          }
        },
        "41e62e0ca7d4402c9686eadf67b1c992": {
          "model_module": "@jupyter-widgets/base",
          "model_name": "LayoutModel",
          "model_module_version": "1.2.0",
          "state": {
            "_model_module": "@jupyter-widgets/base",
            "_model_module_version": "1.2.0",
            "_model_name": "LayoutModel",
            "_view_count": null,
            "_view_module": "@jupyter-widgets/base",
            "_view_module_version": "1.2.0",
            "_view_name": "LayoutView",
            "align_content": null,
            "align_items": null,
            "align_self": null,
            "border": null,
            "bottom": null,
            "display": null,
            "flex": null,
            "flex_flow": null,
            "grid_area": null,
            "grid_auto_columns": null,
            "grid_auto_flow": null,
            "grid_auto_rows": null,
            "grid_column": null,
            "grid_gap": null,
            "grid_row": null,
            "grid_template_areas": null,
            "grid_template_columns": null,
            "grid_template_rows": null,
            "height": null,
            "justify_content": null,
            "justify_items": null,
            "left": null,
            "margin": null,
            "max_height": null,
            "max_width": null,
            "min_height": null,
            "min_width": null,
            "object_fit": null,
            "object_position": null,
            "order": null,
            "overflow": null,
            "overflow_x": null,
            "overflow_y": null,
            "padding": null,
            "right": null,
            "top": null,
            "visibility": null,
            "width": null
          }
        },
        "64b9cbf384744e07aafea859f119ec94": {
          "model_module": "@jupyter-widgets/controls",
          "model_name": "DescriptionStyleModel",
          "model_module_version": "1.5.0",
          "state": {
            "_model_module": "@jupyter-widgets/controls",
            "_model_module_version": "1.5.0",
            "_model_name": "DescriptionStyleModel",
            "_view_count": null,
            "_view_module": "@jupyter-widgets/base",
            "_view_module_version": "1.2.0",
            "_view_name": "StyleView",
            "description_width": ""
          }
        },
        "97688a4dd80a46648b1d66d3d435b8e9": {
          "model_module": "@jupyter-widgets/base",
          "model_name": "LayoutModel",
          "model_module_version": "1.2.0",
          "state": {
            "_model_module": "@jupyter-widgets/base",
            "_model_module_version": "1.2.0",
            "_model_name": "LayoutModel",
            "_view_count": null,
            "_view_module": "@jupyter-widgets/base",
            "_view_module_version": "1.2.0",
            "_view_name": "LayoutView",
            "align_content": null,
            "align_items": null,
            "align_self": null,
            "border": null,
            "bottom": null,
            "display": null,
            "flex": null,
            "flex_flow": null,
            "grid_area": null,
            "grid_auto_columns": null,
            "grid_auto_flow": null,
            "grid_auto_rows": null,
            "grid_column": null,
            "grid_gap": null,
            "grid_row": null,
            "grid_template_areas": null,
            "grid_template_columns": null,
            "grid_template_rows": null,
            "height": null,
            "justify_content": null,
            "justify_items": null,
            "left": null,
            "margin": null,
            "max_height": null,
            "max_width": null,
            "min_height": null,
            "min_width": null,
            "object_fit": null,
            "object_position": null,
            "order": null,
            "overflow": null,
            "overflow_x": null,
            "overflow_y": null,
            "padding": null,
            "right": null,
            "top": null,
            "visibility": null,
            "width": "20px"
          }
        },
        "a862890c223a4e03bc60812317a8803f": {
          "model_module": "@jupyter-widgets/controls",
          "model_name": "ProgressStyleModel",
          "model_module_version": "1.5.0",
          "state": {
            "_model_module": "@jupyter-widgets/controls",
            "_model_module_version": "1.5.0",
            "_model_name": "ProgressStyleModel",
            "_view_count": null,
            "_view_module": "@jupyter-widgets/base",
            "_view_module_version": "1.2.0",
            "_view_name": "StyleView",
            "bar_color": null,
            "description_width": ""
          }
        },
        "f13810a36b1e46cda706b672355674a9": {
          "model_module": "@jupyter-widgets/base",
          "model_name": "LayoutModel",
          "model_module_version": "1.2.0",
          "state": {
            "_model_module": "@jupyter-widgets/base",
            "_model_module_version": "1.2.0",
            "_model_name": "LayoutModel",
            "_view_count": null,
            "_view_module": "@jupyter-widgets/base",
            "_view_module_version": "1.2.0",
            "_view_name": "LayoutView",
            "align_content": null,
            "align_items": null,
            "align_self": null,
            "border": null,
            "bottom": null,
            "display": null,
            "flex": null,
            "flex_flow": null,
            "grid_area": null,
            "grid_auto_columns": null,
            "grid_auto_flow": null,
            "grid_auto_rows": null,
            "grid_column": null,
            "grid_gap": null,
            "grid_row": null,
            "grid_template_areas": null,
            "grid_template_columns": null,
            "grid_template_rows": null,
            "height": null,
            "justify_content": null,
            "justify_items": null,
            "left": null,
            "margin": null,
            "max_height": null,
            "max_width": null,
            "min_height": null,
            "min_width": null,
            "object_fit": null,
            "object_position": null,
            "order": null,
            "overflow": null,
            "overflow_x": null,
            "overflow_y": null,
            "padding": null,
            "right": null,
            "top": null,
            "visibility": null,
            "width": null
          }
        },
        "985aba76aa7d415daf55c662057b0a98": {
          "model_module": "@jupyter-widgets/controls",
          "model_name": "DescriptionStyleModel",
          "model_module_version": "1.5.0",
          "state": {
            "_model_module": "@jupyter-widgets/controls",
            "_model_module_version": "1.5.0",
            "_model_name": "DescriptionStyleModel",
            "_view_count": null,
            "_view_module": "@jupyter-widgets/base",
            "_view_module_version": "1.2.0",
            "_view_name": "StyleView",
            "description_width": ""
          }
        }
      }
    }
  },
  "cells": [
    {
      "cell_type": "code",
      "execution_count": 200,
      "metadata": {
        "id": "FauTs3IqjomX"
      },
      "outputs": [],
      "source": [
        "# !pip install datasets\n",
        "# !pip install morfeusz2"
      ]
    },
    {
      "cell_type": "code",
      "source": [
        "from datasets import Dataset, DatasetDict, load_dataset\n",
        "import pandas as pd\n",
        "from morfeusz2 import Morfeusz\n",
        "from transformers import pipeline,AutoTokenizer\n",
        "from spacy.tokenizer import Tokenizer\n",
        "from spacy.lang.pl import Polish\n",
        "import spacy"
      ],
      "metadata": {
        "id": "vtsO3ccRjsZ2"
      },
      "execution_count": 22,
      "outputs": []
    },
    {
      "cell_type": "code",
      "source": [
        "# !python -m spacy download pl_core_news_sm"
      ],
      "metadata": {
        "id": "KGa39oAvqXGY"
      },
      "execution_count": 201,
      "outputs": []
    },
    {
      "cell_type": "code",
      "source": [
        "dataset = load_dataset(\"clarin-knext/fiqa-pl\", 'corpus')"
      ],
      "metadata": {
        "colab": {
          "base_uri": "https://localhost:8080/",
          "height": 145,
          "referenced_widgets": [
            "0d5787d460794610b9cebaa80cd20d74",
            "937974e2700c47ac85a851a6e2f02df0",
            "2574286f4c3e4ad8990e34de347405a7",
            "a5f0cbf92fc849c285dbcbd5f940e0c8",
            "d8107eb747f54ad6b48b706817defcb3",
            "3db95eb3582048b3bc4e888c6aa45de8",
            "a37395cc884d4a6391e408a21c34ee4a",
            "83d2d2355cc241cab666c8f6162a506e",
            "942f5c254db941a88f88f292a05b5222",
            "59a1a89344ce4fd3b28762fa8f3a5b16",
            "61c1390232c54707be7c8e54b67772c5",
            "8744845954754d2ab0e26420e03892ac",
            "f37a6945bae1457ab29e7f0d5f189dfd",
            "785d1c9e9e1745fcba118f14310a6c70",
            "d9675548ad5645b9b9248d40819a62ae",
            "997d9322b9f447db922932c853afa441",
            "a5ce5140122a4e329135a018df70c152",
            "94239e34af5248cbab7cd8ef1a7be2b0",
            "35191d51e49841b3a73addacf688577e",
            "4d42a5ca446c47f5a2a0e5304b73b33d",
            "f08bda9dc2ea468aa6f3520472664050",
            "2a3a39384ad34e139146137b3c3aca78",
            "22e254a68ea94ac78615045ab643495a",
            "5d70de030c5b4997af6240ba549fa6fb",
            "aaa66012fb24435e9efccc8711594fe8",
            "b9eee7c6e9b74064abfb07fbf782be3f",
            "dfc85cae64254c3ca83477eff61e4af5",
            "0c1d424d659f45b4b225e2227d762468",
            "09d669cb195f4a9ab29111b4548384f2",
            "0c46181d01864239a8742d97047c8ead",
            "c663cf84a134412384f62a54b102e10b",
            "8d87741a96bf430088ff5f358f154c30",
            "ac274815820d433c8d208cb21780c236",
            "6d1d1c0fc3b943b6be5923bf6f4a5785",
            "cbab61320ecf4e30a5a20ed052800a37",
            "c2a87dc267d14c30bddca01a1d09017e",
            "9c1519c9683a4da781e56fb631451971",
            "0059130f50254b878857758db07085b6",
            "41e62e0ca7d4402c9686eadf67b1c992",
            "64b9cbf384744e07aafea859f119ec94",
            "97688a4dd80a46648b1d66d3d435b8e9",
            "a862890c223a4e03bc60812317a8803f",
            "f13810a36b1e46cda706b672355674a9",
            "985aba76aa7d415daf55c662057b0a98"
          ]
        },
        "id": "T-zmJ7s2j09h",
        "outputId": "47342c59-4c9b-4456-edd5-da8b8a3f22b6"
      },
      "execution_count": 5,
      "outputs": [
        {
          "output_type": "display_data",
          "data": {
            "text/plain": [
              "Downloading builder script:   0%|          | 0.00/1.67k [00:00<?, ?B/s]"
            ],
            "application/vnd.jupyter.widget-view+json": {
              "version_major": 2,
              "version_minor": 0,
              "model_id": "0d5787d460794610b9cebaa80cd20d74"
            }
          },
          "metadata": {}
        },
        {
          "output_type": "display_data",
          "data": {
            "text/plain": [
              "Downloading readme:   0%|          | 0.00/201 [00:00<?, ?B/s]"
            ],
            "application/vnd.jupyter.widget-view+json": {
              "version_major": 2,
              "version_minor": 0,
              "model_id": "8744845954754d2ab0e26420e03892ac"
            }
          },
          "metadata": {}
        },
        {
          "output_type": "display_data",
          "data": {
            "text/plain": [
              "Downloading data:   0%|          | 0.00/19.5M [00:00<?, ?B/s]"
            ],
            "application/vnd.jupyter.widget-view+json": {
              "version_major": 2,
              "version_minor": 0,
              "model_id": "22e254a68ea94ac78615045ab643495a"
            }
          },
          "metadata": {}
        },
        {
          "output_type": "display_data",
          "data": {
            "text/plain": [
              "Generating corpus split: 0 examples [00:00, ? examples/s]"
            ],
            "application/vnd.jupyter.widget-view+json": {
              "version_major": 2,
              "version_minor": 0,
              "model_id": "6d1d1c0fc3b943b6be5923bf6f4a5785"
            }
          },
          "metadata": {}
        }
      ]
    },
    {
      "cell_type": "markdown",
      "source": [
        "# Take 1 thousand random passages from the FIQA-PL corpus."
      ],
      "metadata": {
        "id": "pCEhk4KB2dxZ"
      }
    },
    {
      "cell_type": "code",
      "source": [
        "passages=pd.DataFrame(dataset['corpus']).sample(1000).reset_index(drop=True)"
      ],
      "metadata": {
        "id": "CHqwTW7Ej1kQ"
      },
      "execution_count": 93,
      "outputs": []
    },
    {
      "cell_type": "markdown",
      "source": [
        "## Use the lemmatized and sentence split documents (from ex. 5) to identify the expressions that consist of consecutive words starting with a capital letter (you will have to look at the inflected form of the word to check its capitalization) that do not occupy the first position in a sentence. E.g. the sentence:"
      ],
      "metadata": {
        "id": "zoDy6t122hef"
      }
    },
    {
      "cell_type": "code",
      "source": [
        "nlp = spacy.load(\"pl_core_news_sm\")\n",
        "\n",
        "text='Wczoraj w Krakowie miało miejsce spotkanie prezydentów Polski i Stanów Zjednoczonych oraz Maria Magdalena Nowacka.'\n",
        "\n",
        "tokenizer = Tokenizer(nlp.vocab)"
      ],
      "metadata": {
        "id": "iHyFh09BkY45"
      },
      "execution_count": 127,
      "outputs": []
    },
    {
      "cell_type": "code",
      "source": [
        "doc = nlp(text)"
      ],
      "metadata": {
        "id": "YgRQg6c3o5mD"
      },
      "execution_count": 128,
      "outputs": []
    },
    {
      "cell_type": "code",
      "source": [
        "lemmatized_tokens = [token.lemma_ for token in doc]\n",
        "tokenized_lemmatized_text = [token.text for token in nlp(\" \".join(lemmatized_tokens))]"
      ],
      "metadata": {
        "id": "g7ZqjP5ErSFq"
      },
      "execution_count": 129,
      "outputs": []
    },
    {
      "cell_type": "code",
      "source": [
        "lemmatized_tokens"
      ],
      "metadata": {
        "colab": {
          "base_uri": "https://localhost:8080/"
        },
        "id": "RiyRmi72rUCI",
        "outputId": "ca55c56d-ccb1-46c1-f53d-f5b141f09cf8"
      },
      "execution_count": 130,
      "outputs": [
        {
          "output_type": "execute_result",
          "data": {
            "text/plain": [
              "['wczoraj',\n",
              " 'w',\n",
              " 'Kraków',\n",
              " 'mieć',\n",
              " 'miejsce',\n",
              " 'spotkanie',\n",
              " 'prezydent',\n",
              " 'Polska',\n",
              " 'i',\n",
              " 'Stany',\n",
              " 'Zjednoczone',\n",
              " 'oraz',\n",
              " 'Maria',\n",
              " 'Magdalena',\n",
              " 'Nowacka',\n",
              " '.']"
            ]
          },
          "metadata": {},
          "execution_count": 130
        }
      ]
    },
    {
      "cell_type": "code",
      "source": [
        "def make_proper_nouns(tokenized_lemmatized_text):\n",
        "  proper_nouns = []\n",
        "  current_proper_noun = []\n",
        "\n",
        "  for token in tokenized_lemmatized_text:\n",
        "      if token[0].isupper():\n",
        "          current_proper_noun.append(token)\n",
        "      elif current_proper_noun:\n",
        "          proper_nouns.append(\" \".join(current_proper_noun))\n",
        "          current_proper_noun = []\n",
        "\n",
        "  if current_proper_noun:\n",
        "      proper_nouns.append(\" \".join(current_proper_noun))\n",
        "  return proper_nouns"
      ],
      "metadata": {
        "id": "wYZvrzrprtsd"
      },
      "execution_count": 115,
      "outputs": []
    },
    {
      "cell_type": "code",
      "source": [
        "make_proper_nouns(tokenized_lemmatized_text)\n"
      ],
      "metadata": {
        "colab": {
          "base_uri": "https://localhost:8080/"
        },
        "id": "qmJ9EkMBslX_",
        "outputId": "0eb78a53-72da-4a50-b18c-cac9b747a92d"
      },
      "execution_count": 131,
      "outputs": [
        {
          "output_type": "execute_result",
          "data": {
            "text/plain": [
              "['Kraków', 'Polska', 'Stany Zjednoczone', 'Maria Magdalena Nowacka']"
            ]
          },
          "metadata": {},
          "execution_count": 131
        }
      ]
    },
    {
      "cell_type": "code",
      "source": [
        "passages['lemmatized']=passages['text'].apply(lambda x: [token.lemma_ for token in nlp(x)])"
      ],
      "metadata": {
        "id": "0o1MbOM_vN0k"
      },
      "execution_count": 119,
      "outputs": []
    },
    {
      "cell_type": "code",
      "source": [
        "passages['Capital_letter']=passages['lemmatized'].apply(lambda x: make_proper_nouns(x))"
      ],
      "metadata": {
        "id": "_ZRFf0-6wke2"
      },
      "execution_count": 120,
      "outputs": []
    },
    {
      "cell_type": "code",
      "source": [
        "passages['Capital_letter'].head(10)"
      ],
      "metadata": {
        "colab": {
          "base_uri": "https://localhost:8080/"
        },
        "id": "7XwaZKx0xKdE",
        "outputId": "139751da-2e59-43c3-af90-d598077507bf"
      },
      "execution_count": 121,
      "outputs": [
        {
          "output_type": "execute_result",
          "data": {
            "text/plain": [
              "0     [USA, USA, X, ZWYKLE, Irańczyk, SSN, USCIS, SSN]\n",
              "1                                             [Uważaj]\n",
              "2                                        [Utrzymujemy]\n",
              "3    [Wall Street, Wall Street, Wall Street, Wall S...\n",
              "4    [X, Y USD, Dragon's Den, Kanada, Wielki Brytan...\n",
              "5                                                   []\n",
              "6                                     [Problemem, EEM]\n",
              "7                                                   []\n",
              "8                                              [Bezos]\n",
              "9                   [Otrzeźwiający, Los Angeles Times]\n",
              "Name: Capital_letter, dtype: object"
            ]
          },
          "metadata": {},
          "execution_count": 121
        }
      ]
    },
    {
      "cell_type": "markdown",
      "source": [
        "## Compute the frequency of each identified expression and print 50 results with the largest number of occurrences."
      ],
      "metadata": {
        "id": "5tehAHq02w51"
      }
    },
    {
      "cell_type": "code",
      "source": [
        "from collections import Counter\n",
        "passages['freq_list']=passages['Capital_letter'].apply(lambda word: Counter(word))"
      ],
      "metadata": {
        "id": "wt-CpigdyApK"
      },
      "execution_count": 122,
      "outputs": []
    },
    {
      "cell_type": "code",
      "source": [
        "freq_list= Counter()\n",
        "for counter in passages['freq_list']:\n",
        "    freq_list.update(counter)"
      ],
      "metadata": {
        "id": "gZ46H5DL1bWK"
      },
      "execution_count": 158,
      "outputs": []
    },
    {
      "cell_type": "code",
      "source": [
        "dict(sorted(freq_list.items(), key=lambda item: item[1],reverse=True)[:50])"
      ],
      "metadata": {
        "colab": {
          "base_uri": "https://localhost:8080/"
        },
        "id": "-ej53QfbyTWi",
        "outputId": "40753390-d7de-4700-9ffb-1285ac0c805b"
      },
      "execution_count": 159,
      "outputs": [
        {
          "output_type": "execute_result",
          "data": {
            "text/plain": [
              "{'USA': 110,\n",
              " 'Twój': 59,\n",
              " 'Ciebie': 46,\n",
              " 'Stany Zjednoczone': 40,\n",
              " 'IRS': 39,\n",
              " 'IRA': 36,\n",
              " 'Indie': 35,\n",
              " 'LLC': 24,\n",
              " 'ETF': 24,\n",
              " 'Wielki Brytania': 20,\n",
              " 'Twojej': 19,\n",
              " 'X': 18,\n",
              " 'Amazon': 18,\n",
              " 'PKB': 17,\n",
              " 'S&P': 17,\n",
              " 'Bob': 17,\n",
              " 'Google': 15,\n",
              " 'Internet': 15,\n",
              " 'Biorąc': 15,\n",
              " 'Excel': 15,\n",
              " 'Alicja': 15,\n",
              " 'Kanada': 14,\n",
              " 'USD': 13,\n",
              " 'CD': 13,\n",
              " 'HSA': 13,\n",
              " 'W': 13,\n",
              " 'A': 12,\n",
              " 'Twojego': 12,\n",
              " 'Twoich': 12,\n",
              " 'AMT': 12,\n",
              " 'Europa': 11,\n",
              " 'Kalifornia': 11,\n",
              " 'Microsoft': 11,\n",
              " 'Uber': 11,\n",
              " 'Jork': 10,\n",
              " 'Załóżmy': 10,\n",
              " 'UE': 10,\n",
              " 'PM': 10,\n",
              " 'Najlepsze': 10,\n",
              " 'Twoją': 10,\n",
              " 'Sprawdź': 10,\n",
              " 'Roth IRA': 10,\n",
              " 'Roth': 10,\n",
              " 'FICO': 10,\n",
              " 'NOK': 10,\n",
              " 'Amerykanin': 9,\n",
              " 'Apple': 9,\n",
              " 'FMV': 9,\n",
              " 'Kup': 9,\n",
              " 'Facebook': 8}"
            ]
          },
          "metadata": {},
          "execution_count": 159
        }
      ]
    },
    {
      "cell_type": "markdown",
      "source": [
        "## Apply the NER from SpaCy to identify the named entities in the same set of documents."
      ],
      "metadata": {
        "id": "QbOrNysR20qt"
      }
    },
    {
      "cell_type": "code",
      "source": [
        "named_entities = [(ent.text, ent.label_) for ent in nlp(' '.join(lemmatized_tokens)).ents]"
      ],
      "metadata": {
        "id": "JgmrYI-D21k1"
      },
      "execution_count": 137,
      "outputs": []
    },
    {
      "cell_type": "code",
      "source": [
        "passages['NER']=passages['lemmatized'].apply(lambda x: [(ent.text, ent.label_) for ent in nlp(' '.join(x)).ents])"
      ],
      "metadata": {
        "id": "BjB2vO4I7eA6"
      },
      "execution_count": 152,
      "outputs": []
    },
    {
      "cell_type": "code",
      "source": [
        "passages['NER'][0]"
      ],
      "metadata": {
        "colab": {
          "base_uri": "https://localhost:8080/"
        },
        "id": "Ebns7Bc47jyB",
        "outputId": "f42c4b9a-4684-42a8-b17d-0fae96ac223b"
      },
      "execution_count": 154,
      "outputs": [
        {
          "output_type": "execute_result",
          "data": {
            "text/plain": [
              "[('USA', 'placeName'),\n",
              " ('USA', 'placeName'),\n",
              " ('ZWYKLE', 'orgName'),\n",
              " ('Irańczyk', 'persName'),\n",
              " ('amerykański', 'placeName'),\n",
              " ('SSN', 'orgName'),\n",
              " ('USCIS', 'orgName'),\n",
              " ('SSN', 'orgName')]"
            ]
          },
          "metadata": {},
          "execution_count": 154
        }
      ]
    },
    {
      "cell_type": "code",
      "source": [
        "passages['freq_list_ner']=passages['NER'].apply(lambda word: Counter(word))"
      ],
      "metadata": {
        "id": "uTobOlc-8a4U"
      },
      "execution_count": 155,
      "outputs": []
    },
    {
      "cell_type": "markdown",
      "source": [
        "## Display 50 most frequent Named Entities including their count and type."
      ],
      "metadata": {
        "id": "JVvaOXFsI0Pa"
      }
    },
    {
      "cell_type": "code",
      "source": [
        "freq_list_ner= Counter()\n",
        "for counter in passages['freq_list_ner']:\n",
        "    freq_list_ner.update(counter)\n",
        "dict(sorted(freq_list_ner.items(), key=lambda item: item[1],reverse=True)[:50])"
      ],
      "metadata": {
        "colab": {
          "base_uri": "https://localhost:8080/"
        },
        "id": "dwtBTJtbDwNb",
        "outputId": "fa66b344-a204-4c7f-8041-995f5156db13"
      },
      "execution_count": 160,
      "outputs": [
        {
          "output_type": "execute_result",
          "data": {
            "text/plain": [
              "{('USA', 'placeName'): 110,\n",
              " ('amerykański', 'placeName'): 51,\n",
              " ('Stany Zjednoczone', 'placeName'): 40,\n",
              " ('IRA', 'orgName'): 37,\n",
              " ('Indie', 'placeName'): 35,\n",
              " ('ETF', 'orgName'): 23,\n",
              " ('LLC', 'orgName'): 19,\n",
              " ('Amazon', 'persName'): 16,\n",
              " ('Bob', 'persName'): 16,\n",
              " ('Wielki Brytania', 'placeName'): 15,\n",
              " ('Alicja', 'persName'): 15,\n",
              " ('Kanada', 'placeName'): 14,\n",
              " ('Google', 'orgName'): 13,\n",
              " ('S&P', 'orgName'): 13,\n",
              " ('Excel', 'persName'): 13,\n",
              " ('Europa', 'geogName'): 11,\n",
              " ('UE', 'orgName'): 11,\n",
              " ('brytyjski', 'placeName'): 11,\n",
              " ('1099', 'date'): 10,\n",
              " ('2008 rok', 'date'): 10,\n",
              " ('Roth IRA', 'orgName'): 10,\n",
              " ('Microsoft', 'orgName'): 10,\n",
              " ('kanadyjski', 'placeName'): 9,\n",
              " ('Kalifornia', 'placeName'): 9,\n",
              " ('Amerykanin', 'placeName'): 9,\n",
              " ('AMT', 'orgName'): 9,\n",
              " ('HSA', 'orgName'): 9,\n",
              " ('nowy Jork', 'placeName'): 8,\n",
              " ('Apple', 'orgName'): 8,\n",
              " ('musiałbyś', 'persName'): 8,\n",
              " ('FMV', 'orgName'): 7,\n",
              " ('Linkedin', 'persName'): 7,\n",
              " ('Nowy Jork', 'placeName'): 7,\n",
              " ('AGI', 'orgName'): 7,\n",
              " ('NOK', 'orgName'): 7,\n",
              " ('Brazylia', 'placeName'): 7,\n",
              " ('PMI', 'orgName'): 7,\n",
              " ('Ameryka', 'placeName'): 6,\n",
              " ('MBA', 'orgName'): 6,\n",
              " ('Craftsman', 'persName'): 6,\n",
              " ('Malezja', 'placeName'): 6,\n",
              " ('2013 rok', 'date'): 6,\n",
              " ('PE', 'orgName'): 6,\n",
              " ('indyjski', 'placeName'): 6,\n",
              " ('Trump', 'persName'): 6,\n",
              " ('2017 rok', 'date'): 6,\n",
              " ('kredyt studencki', 'geogName'): 6,\n",
              " ('europejski', 'geogName'): 6,\n",
              " ('REIT', 'orgName'): 6,\n",
              " ('1040', 'date'): 6}"
            ]
          },
          "metadata": {},
          "execution_count": 160
        }
      ]
    },
    {
      "cell_type": "markdown",
      "source": [
        "## Plot the frequency (histogram) of the identified classes."
      ],
      "metadata": {
        "id": "thctAvhCHiub"
      }
    },
    {
      "cell_type": "code",
      "source": [
        "freq_list_classes= Counter()\n",
        "for element in freq_list_ner.items():\n",
        "  classes_freq={element[0][1]:element[1]}\n",
        "  freq_list_classes.update(classes_freq)"
      ],
      "metadata": {
        "id": "Rdfb0Z9-D1Rc"
      },
      "execution_count": 165,
      "outputs": []
    },
    {
      "cell_type": "code",
      "source": [
        "freq_list_classes"
      ],
      "metadata": {
        "colab": {
          "base_uri": "https://localhost:8080/"
        },
        "id": "ikjKfw6GD7hz",
        "outputId": "0288d88c-4ff3-4d8c-b433-06dd1c530c23"
      },
      "execution_count": 169,
      "outputs": [
        {
          "output_type": "execute_result",
          "data": {
            "text/plain": [
              "Counter({'placeName': 640,\n",
              "         'orgName': 682,\n",
              "         'persName': 582,\n",
              "         'date': 208,\n",
              "         'geogName': 93,\n",
              "         'time': 5})"
            ]
          },
          "metadata": {},
          "execution_count": 169
        }
      ]
    },
    {
      "cell_type": "code",
      "source": [
        "import matplotlib.pyplot as plt\n",
        "labels, counts = zip(*freq_list_classes.items())\n",
        "plt.bar(labels, counts)\n",
        "plt.xlabel('Named Entities')\n",
        "plt.ylabel('Frequency')\n",
        "plt.title('Named Entities Histogram')\n",
        "plt.show()"
      ],
      "metadata": {
        "colab": {
          "base_uri": "https://localhost:8080/",
          "height": 472
        },
        "id": "Bvuwb_QWG9jZ",
        "outputId": "d5736f3f-0231-4a09-b7d8-4fdf640f6fcd"
      },
      "execution_count": 170,
      "outputs": [
        {
          "output_type": "display_data",
          "data": {
            "text/plain": [
              "<Figure size 640x480 with 1 Axes>"
            ],
            "image/png": "[encoded data removed]"
          },
          "metadata": {}
        }
      ]
    },
    {
      "cell_type": "markdown",
      "source": [
        "## Display 10 most frequent Named Entities for each identified type."
      ],
      "metadata": {
        "id": "6CeaVpTAHnnq"
      }
    },
    {
      "cell_type": "code",
      "source": [
        "classes=list(freq_list_classes)"
      ],
      "metadata": {
        "id": "VmdUcZ22HK1U"
      },
      "execution_count": 171,
      "outputs": []
    },
    {
      "cell_type": "code",
      "source": [
        "for class_example in classes:\n",
        "  counter=0\n",
        "  print(class_example)\n",
        "  for element in dict(sorted(freq_list_ner.items(), key=lambda item: item[1],reverse=True)).items():\n",
        "    if counter==10:\n",
        "      break\n",
        "    if element[0][1]==class_example:\n",
        "      print(element)\n",
        "      counter+=1\n",
        ""
      ],
      "metadata": {
        "colab": {
          "base_uri": "https://localhost:8080/"
        },
        "id": "zyhSYkKIIQbL",
        "outputId": "36eefe4b-99eb-4eda-e17f-f372110f00a4"
      },
      "execution_count": 174,
      "outputs": [
        {
          "output_type": "stream",
          "name": "stdout",
          "text": [
            "placeName\n",
            "(('USA', 'placeName'), 110)\n",
            "(('amerykański', 'placeName'), 51)\n",
            "(('Stany Zjednoczone', 'placeName'), 40)\n",
            "(('Indie', 'placeName'), 35)\n",
            "(('Wielki Brytania', 'placeName'), 15)\n",
            "(('Kanada', 'placeName'), 14)\n",
            "(('brytyjski', 'placeName'), 11)\n",
            "(('kanadyjski', 'placeName'), 9)\n",
            "(('Kalifornia', 'placeName'), 9)\n",
            "(('Amerykanin', 'placeName'), 9)\n",
            "orgName\n",
            "(('IRA', 'orgName'), 37)\n",
            "(('ETF', 'orgName'), 23)\n",
            "(('LLC', 'orgName'), 19)\n",
            "(('Google', 'orgName'), 13)\n",
            "(('S&P', 'orgName'), 13)\n",
            "(('UE', 'orgName'), 11)\n",
            "(('Roth IRA', 'orgName'), 10)\n",
            "(('Microsoft', 'orgName'), 10)\n",
            "(('AMT', 'orgName'), 9)\n",
            "(('HSA', 'orgName'), 9)\n",
            "persName\n",
            "(('Amazon', 'persName'), 16)\n",
            "(('Bob', 'persName'), 16)\n",
            "(('Alicja', 'persName'), 15)\n",
            "(('Excel', 'persName'), 13)\n",
            "(('musiałbyś', 'persName'), 8)\n",
            "(('Linkedin', 'persName'), 7)\n",
            "(('Craftsman', 'persName'), 6)\n",
            "(('Trump', 'persName'), 6)\n",
            "(('Uber', 'persName'), 6)\n",
            "(('Reddit', 'persName'), 5)\n",
            "date\n",
            "(('1099', 'date'), 10)\n",
            "(('2008 rok', 'date'), 10)\n",
            "(('2013 rok', 'date'), 6)\n",
            "(('2017 rok', 'date'), 6)\n",
            "(('1040', 'date'), 6)\n",
            "(('2007 rok', 'date'), 6)\n",
            "(('2011 rok', 'date'), 5)\n",
            "(('2016 rok', 'date'), 4)\n",
            "(('2015 rok', 'date'), 4)\n",
            "(('2000 godzina', 'date'), 4)\n",
            "geogName\n",
            "(('Europa', 'geogName'), 11)\n",
            "(('kredyt studencki', 'geogName'), 6)\n",
            "(('europejski', 'geogName'), 6)\n",
            "(('Scottrade', 'geogName'), 3)\n",
            "(('FICO', 'geogName'), 3)\n",
            "(('Mint', 'geogName'), 2)\n",
            "(('NASDAQ', 'geogName'), 2)\n",
            "(('Filadelfia', 'geogName'), 2)\n",
            "(('Bliski Wschód', 'geogName'), 2)\n",
            "(('Photoshopa', 'geogName'), 2)\n",
            "time\n",
            "(('65', 'time'), 1)\n",
            "(('10 rano', 'time'), 1)\n",
            "(('15 minuta rano', 'time'), 1)\n",
            "(('16 godzina', 'time'), 1)\n",
            "(('11 .', 'time'), 1)\n"
          ]
        }
      ]
    },
    {
      "cell_type": "markdown",
      "source": [
        "## Display 5 sentences containing at least 2 recognized named entities with different types. Highlight the recognized spans with color. (For demo application Streamlit might be useful for displaying NER results)."
      ],
      "metadata": {
        "id": "uIV4blgKJNWO"
      }
    },
    {
      "cell_type": "code",
      "source": [
        "# pip install spacy-streamlit streamlit"
      ],
      "metadata": {
        "id": "MdwubO9vJnra"
      },
      "execution_count": 199,
      "outputs": []
    },
    {
      "cell_type": "code",
      "source": [
        "import streamlit as st\n",
        "from spacy_streamlit import visualize_ner"
      ],
      "metadata": {
        "colab": {
          "base_uri": "https://localhost:8080/"
        },
        "id": "PWRLaXF5IRKL",
        "outputId": "4f9752c6-a0bd-4856-f3bc-0fea43a19d8a"
      },
      "execution_count": 178,
      "outputs": [
        {
          "output_type": "stream",
          "name": "stderr",
          "text": [
            "2023-12-17 19:01:45.413 WARNING streamlit.runtime.caching.cache_data_api: No runtime found, using MemoryCacheStorageManager\n"
          ]
        }
      ]
    },
    {
      "cell_type": "code",
      "source": [
        "sentences=[]\n",
        "number_of_sentences=0\n",
        "for i in range(len(passages['text'])):\n",
        "  entities=[]\n",
        "  for entity in passages['NER'][i]:\n",
        "    entities.append(entity)\n",
        "  entities=list(set(entities))\n",
        "  if len(entities)>1:\n",
        "    sentences.append(passages['text'][i])\n",
        "    number_of_sentences+=1\n",
        "    if number_of_sentences>=5:\n",
        "      break"
      ],
      "metadata": {
        "id": "o8NiInBgJ-gB"
      },
      "execution_count": 183,
      "outputs": []
    },
    {
      "cell_type": "code",
      "source": [
        "sentences"
      ],
      "metadata": {
        "colab": {
          "base_uri": "https://localhost:8080/"
        },
        "id": "Dz6XIZcgKnwR",
        "outputId": "e1ec8bfd-fc4f-40f5-8053-8590b6c1e57b"
      },
      "execution_count": 184,
      "outputs": [
        {
          "output_type": "execute_result",
          "data": {
            "text/plain": [
              "['„Sankcje USA są zwykle bardzo zniuansowane i należy je sprawdzić samemu. Może się szerzyć, że „„ USA nałożyły sankcje na kraj X”” i może być powszechnie rozumiane, że oznacza to, że wszystkie środki pochodzące od kogokolwiek w tym kraju są zablokowane, że ZWYKLE tak nie jest (lub „wiele razy” nie jest prawdą, nie zamierzam zawracać sobie głowy określeniem tego) Wiele razy jest to wyczerpująca lista określonych osób i firm, które są zablokowane. listę tych organizacji. Ta błędna interpretacja może spływać na firmy. Można by pomyśleć, że duże firmy finansowe rozumieją przepisy, ale zazwyczaj reagują tylko na sposób zgłaszania spraw i nie mają jednolitego zrozumienia przepisów finansowych, którym podlegają. Prywatne firmy tworzą unikatowe i arbitralne zasady firmy w reakcji na ducha regulacji. Czy to możliwe, że wszyscy Irańczycy nie mogą wchodzić w interakcje z amerykańskim systemem finansowym? Jasne, to możliwe. Czy może być o wiele bardziej zniuansowane? Jasne. Czy ja Czy ma znaczenie, czy broker faktycznie zbada Twój SSN w USCIS? Może, może nie. Czy ma znaczenie, jeśli ujawnisz, że masz podwójne obywatelstwo, jeśli twierdzą, że mogą po prostu sprawdzić Twój SSN? Instytucja finansowa ponosi odpowiedzialność za błędną interpretację sankcji. Niech konsekwencje kierują twoimi działaniami”.',\n",
              " '„Czasami zadaję sobie to pytanie. Ale byłem całkowicie zdumiony, że przegapiłeś główne powody, dla których myślę, że mamy kłopoty. Wall Street to kasyno, a co gorsza, jest to kasyno zmanipulowane, które jest coraz bardziej zależne od komputery dokonujące transakcji. A my jesteśmy na ich łasce. Jeden chciwy bank, jedna usterka komputerowa i znów ruszamy do wyścigu. Jestem zdumiony tym, co zrobili w latach 2000. to całkowicie i całkowicie. Martwisz się długiem rządowym i ubezpieczeniem społecznym/opieką medyczną, ale pamiętaj, że gdyby banki z Wall Street nie *celowo* nie zawaliły amerykańskiej (i światowej) gospodarki za kilka szybkich dolców, nie byłoby nas Ta recesja trwa już prawie 6 lat, a ludzie/przedsiębiorstwa zapłaciliby znacznie więcej podatków. I o ile widzę, czekamy tylko na następną bańkę, że Wall Street będzie się powiększać i pękać. Moglibyśmy zmniejszyć dług publiczny do zero, a Wall Street może jeszcze raz wszystko zniszczyć, bez strachu reperkusji. Dopóki mogą zarabiać, dlaczego nie mieliby tego zrobić? EDYCJA: Usunięto niektóre \"\"wybrane słowa\"\", dzięki czemu jest to bardziej czytelne.\"',\n",
              " '„Każda firma ma akcje X wyceniane na Y USD/akcję. Kiedy transakcje takie jak „Dragon\\'s Den”” w Kanadzie i Wielkiej Brytanii lub „Shark Tank”” w Stanach Zjednoczonych są sfinalizowane, firma emituje akcje o wartości USD z ogółem na rzecz inwestora, aby firma miała środki na zrobienie wszystkiego, na co przyszli na targi, aby uzyskać finansowanie, chociaż niektóre transakcje mogą być pożyczkami lub tantiemami zamiast kapitału własnego w firmie. może oczywiście obejmować wartości niematerialne, ale chodzi o to, że firma prowadzi „finansowanie kapitałowe” tam, gdzie firma kontynuuje działalność. Akcjonariusze firmy mają swoje udziały, które mogą zostać wynagrodzone, gdy firma zostanie przejęta lub uruchomiona płaci dywidendy, ale jest to wezwanie do wykonania przez kierownictwo firmy.Podczas gdy do firmy dochodzi dopływ gotówki, zwykle robi się więcej, ponieważ Smok lub Rekin mogą również wnieść kontakty i wiedzę do firmy, aby pomóc jej się rozwijać Jeżeli inwestor zapewni przedsiębiorcy in prezentacje lub sugestie dotyczące strategii firmy to coś więcej niż tylko kupno udziałów w firmie. Jeśli spojrzysz na aktualizacje, które istnieją w „Dragon\\'s Den” lub „Shark Tank” przynajmniej w Ameryce Północnej, którą widziałem, zobaczysz, że istnieje więcej niż kilka niepieniężnych wkładów, które Smok lub Rekin może zapewnić.\"',\n",
              " '„Kanada nie wprowadziła podatku dochodowego przed I wojną światową. W szczególności deficyty zmusiły ich do tego w późniejszej części wojny: konserwatyści sprzeciwiali się opodatkowaniu podatkiem dochodowym, ponieważ chcieli przyciągnąć imigrantów głównie z Wielkiej Brytanii i Stanów Zjednoczonych, w przeciwieństwie do wschodnich Europa i chcieli dać swoim preferowanym przybyszom pewną zachętę do przyjazdu do Kanady. Wydatki wojenne zmusiły torysów do ponownego rozważenia swoich opcji, a w 1917 roku rząd nałożył „tymczasowy” podatek dochodowy na pokrycie wydatków. nowy podatek kanadyjski rząd popadł w znaczne długi podczas wojny i nie był w stanie zrezygnować z dochodów z podatku dochodowego po zakończeniu wojny.Po wyborze rządu liberalnego pod przewodnictwem Mackenziego Kinga, znaczna część polityki krajowej została zdemontowana, a podatek dochodowy pozostał od tamtej pory. Tak więc z kanadyjskiego punktu widzenia zostały one wprowadzone jako część wysiłku wojennego.',\n",
              " '\"Aby rozwinąć nieco odpowiedź @MSalters... Kiedy przeczytałem tytuł twojego pytania, założyłem, że przez \"\"fundusze emerytalne\"\" masz na myśli fundusze z datą docelową, które są bliskie datom docelowym (powiedzmy, fundusz docelowy 2015). Kiedy zobaczyłem, że masz na myśli wszystkie fundusze z datą docelową, przyszło mi do głowy, że zbadanie, w jaki sposób takie fundusze modyfikują swoje portfele w czasie, faktycznie pomogłoby odpowiedzieć na twoje pytanie.Jeśli spojrzysz na krótkoterminowy fundusz docelowy, zobaczysz, że mniejszy procent jest inwestowany na arenie międzynarodowej, w ten sam sposób mniejszy procent jest inwestowany w akcje. Wynika to z ryzyka. Ponieważ jest bardziej prawdopodobne, że wkrótce będziesz potrzebować części pieniędzy i będziesz wypłacać te pieniądze w dolarach amerykańskich, zainwestowanie zbyt dużej kwoty w waluty obce jest ryzykowne. Jeśli potrzebujesz pieniędzy, które są obecnie zainwestowane w obcej walucie, a ta waluta ma w tej chwili słabą wartość w stosunku do USD, stracisz pieniądze tylko dlatego, że ich teraz potrzebujesz. to ten sam powód, który idzie w cel przechodzenie funduszy z t-datowych akcji z akcji na obligacje w miarę upływu czasu. Ponieważ wartość portfela akcji ma znacznie większą naturalną zmienność niż wartość portfela obligacji, jeśli inwestujesz dużo w akcje, gdy musisz wypłacić pieniądze, istnieje większe prawdopodobieństwo, że będziesz musiał wypłacić pieniądze, gdy akcje mają się stosunkowo słabo. Inwestowanie więcej w obligacje, gdy będziesz potrzebować swoich pieniędzy, jest mniej ryzykowne. Podobnie, inwestowanie więcej w dolarach amerykańskich niż w waluty obce, gdy będziesz potrzebować swoich pieniędzy, jest również mniej ryzykowne”.']"
            ]
          },
          "metadata": {},
          "execution_count": 184
        }
      ]
    },
    {
      "cell_type": "code",
      "source": [
        "ner_labels = nlp.get_pipe(\"ner\").labels"
      ],
      "metadata": {
        "id": "Op6Cq4BCLsLH"
      },
      "execution_count": 186,
      "outputs": []
    },
    {
      "cell_type": "code",
      "source": [
        "from spacy import displacy\n",
        "from IPython.display import HTML\n",
        "#used chatgpt to find right function to display entities.\n",
        "\n",
        "for sentence in sentences:\n",
        "  doc=nlp(sentence)\n",
        "  options = {\"ents\": [ent.label_ for ent in doc.ents], \"colors\": {\"ORG\": \"orange\", \"LOC\": \"green\", \"GPE\": \"blue\"}}\n",
        "  html_code=(displacy.render(doc, style=\"ent\", options=options))\n",
        "  display(HTML(html_code))"
      ],
      "metadata": {
        "colab": {
          "base_uri": "https://localhost:8080/",
          "height": 822
        },
        "id": "1h4VxqwiLgtH",
        "outputId": "920ea9e3-9a93-4132-fda7-a444130543fb"
      },
      "execution_count": 198,
      "outputs": [
        {
          "output_type": "display_data",
          "data": {
            "text/plain": [
              "<IPython.core.display.HTML object>"
            ],
            "text/html": [
              "<div class=\"entities\" style=\"line-height: 2.5; direction: ltr\">„Sankcje \n",
              "<mark class=\"entity\" style=\"background: #ddd; padding: 0.45em 0.6em; margin: 0 0.25em; line-height: 1; border-radius: 0.35em;\">\n",
              "    USA\n",
              "    <span style=\"font-size: 0.8em; font-weight: bold; line-height: 1; border-radius: 0.35em; vertical-align: middle; margin-left: 0.5rem\">placeName</span>\n",
              "</mark>\n",
              " są zwykle bardzo zniuansowane i należy je sprawdzić samemu. Może się szerzyć, że „„ \n",
              "<mark class=\"entity\" style=\"background: #ddd; padding: 0.45em 0.6em; margin: 0 0.25em; line-height: 1; border-radius: 0.35em;\">\n",
              "    USA\n",
              "    <span style=\"font-size: 0.8em; font-weight: bold; line-height: 1; border-radius: 0.35em; vertical-align: middle; margin-left: 0.5rem\">placeName</span>\n",
              "</mark>\n",
              " nałożyły sankcje na kraj X”” i może być powszechnie rozumiane, że oznacza to, że wszystkie środki pochodzące od kogokolwiek w tym kraju są zablokowane, że \n",
              "<mark class=\"entity\" style=\"background: #ddd; padding: 0.45em 0.6em; margin: 0 0.25em; line-height: 1; border-radius: 0.35em;\">\n",
              "    ZWYKLE\n",
              "    <span style=\"font-size: 0.8em; font-weight: bold; line-height: 1; border-radius: 0.35em; vertical-align: middle; margin-left: 0.5rem\">orgName</span>\n",
              "</mark>\n",
              " tak nie jest (lub „wiele razy” nie jest prawdą, nie zamierzam zawracać sobie głowy określeniem tego) Wiele razy jest to wyczerpująca lista określonych osób i firm, które są zablokowane. listę tych organizacji. Ta błędna interpretacja może spływać na firmy. Można by pomyśleć, że duże firmy finansowe rozumieją przepisy, ale zazwyczaj reagują tylko na sposób zgłaszania spraw i nie mają jednolitego zrozumienia przepisów finansowych, którym podlegają. Prywatne firmy tworzą unikatowe i arbitralne zasady firmy w reakcji na ducha regulacji. Czy to możliwe, że wszyscy \n",
              "<mark class=\"entity\" style=\"background: #ddd; padding: 0.45em 0.6em; margin: 0 0.25em; line-height: 1; border-radius: 0.35em;\">\n",
              "    Irańczycy\n",
              "    <span style=\"font-size: 0.8em; font-weight: bold; line-height: 1; border-radius: 0.35em; vertical-align: middle; margin-left: 0.5rem\">placeName</span>\n",
              "</mark>\n",
              " nie mogą wchodzić w interakcje z \n",
              "<mark class=\"entity\" style=\"background: #ddd; padding: 0.45em 0.6em; margin: 0 0.25em; line-height: 1; border-radius: 0.35em;\">\n",
              "    amerykańskim\n",
              "    <span style=\"font-size: 0.8em; font-weight: bold; line-height: 1; border-radius: 0.35em; vertical-align: middle; margin-left: 0.5rem\">placeName</span>\n",
              "</mark>\n",
              " systemem finansowym? Jasne, to możliwe. Czy może być o wiele bardziej zniuansowane? Jasne. Czy ja Czy ma znaczenie, czy broker faktycznie zbada Twój SSN w \n",
              "<mark class=\"entity\" style=\"background: #ddd; padding: 0.45em 0.6em; margin: 0 0.25em; line-height: 1; border-radius: 0.35em;\">\n",
              "    USCIS\n",
              "    <span style=\"font-size: 0.8em; font-weight: bold; line-height: 1; border-radius: 0.35em; vertical-align: middle; margin-left: 0.5rem\">orgName</span>\n",
              "</mark>\n",
              "? Może, może nie. Czy ma znaczenie, jeśli ujawnisz, że masz podwójne obywatelstwo, jeśli twierdzą, że mogą po prostu sprawdzić Twój SSN? Instytucja finansowa ponosi odpowiedzialność za błędną interpretację sankcji. Niech konsekwencje kierują twoimi działaniami”.</div>"
            ]
          },
          "metadata": {}
        },
        {
          "output_type": "display_data",
          "data": {
            "text/plain": [
              "<IPython.core.display.HTML object>"
            ],
            "text/html": [
              "<div class=\"entities\" style=\"line-height: 2.5; direction: ltr\">„Czasami zadaję sobie to pytanie. Ale byłem całkowicie zdumiony, że przegapiłeś główne powody, dla których myślę, że mamy kłopoty. Wall \n",
              "<mark class=\"entity\" style=\"background: #ddd; padding: 0.45em 0.6em; margin: 0 0.25em; line-height: 1; border-radius: 0.35em;\">\n",
              "    Street\n",
              "    <span style=\"font-size: 0.8em; font-weight: bold; line-height: 1; border-radius: 0.35em; vertical-align: middle; margin-left: 0.5rem\">persName</span>\n",
              "</mark>\n",
              " to kasyno, a co gorsza, jest to kasyno zmanipulowane, które jest coraz bardziej zależne od komputery dokonujące transakcji. A my jesteśmy na ich łasce. Jeden chciwy bank, jedna usterka komputerowa i znów ruszamy do wyścigu. Jestem zdumiony tym, co zrobili w \n",
              "<mark class=\"entity\" style=\"background: #bfe1d9; padding: 0.45em 0.6em; margin: 0 0.25em; line-height: 1; border-radius: 0.35em;\">\n",
              "    latach 2000\n",
              "    <span style=\"font-size: 0.8em; font-weight: bold; line-height: 1; border-radius: 0.35em; vertical-align: middle; margin-left: 0.5rem\">date</span>\n",
              "</mark>\n",
              ". to całkowicie i całkowicie. Martwisz się długiem rządowym i ubezpieczeniem społecznym/opieką medyczną, ale pamiętaj, że gdyby banki z \n",
              "<mark class=\"entity\" style=\"background: #ddd; padding: 0.45em 0.6em; margin: 0 0.25em; line-height: 1; border-radius: 0.35em;\">\n",
              "    Wall Street\n",
              "    <span style=\"font-size: 0.8em; font-weight: bold; line-height: 1; border-radius: 0.35em; vertical-align: middle; margin-left: 0.5rem\">orgName</span>\n",
              "</mark>\n",
              " nie *celowo* nie zawaliły \n",
              "<mark class=\"entity\" style=\"background: #ddd; padding: 0.45em 0.6em; margin: 0 0.25em; line-height: 1; border-radius: 0.35em;\">\n",
              "    amerykańskiej\n",
              "    <span style=\"font-size: 0.8em; font-weight: bold; line-height: 1; border-radius: 0.35em; vertical-align: middle; margin-left: 0.5rem\">placeName</span>\n",
              "</mark>\n",
              " (i światowej) gospodarki za kilka szybkich dolców, nie byłoby nas Ta recesja trwa już prawie 6 lat, a ludzie/przedsiębiorstwa zapłaciliby znacznie więcej podatków. I o ile widzę, czekamy tylko na następną bańkę, że \n",
              "<mark class=\"entity\" style=\"background: #ddd; padding: 0.45em 0.6em; margin: 0 0.25em; line-height: 1; border-radius: 0.35em;\">\n",
              "    Wall Street\n",
              "    <span style=\"font-size: 0.8em; font-weight: bold; line-height: 1; border-radius: 0.35em; vertical-align: middle; margin-left: 0.5rem\">orgName</span>\n",
              "</mark>\n",
              " będzie się powiększać i pękać. Moglibyśmy zmniejszyć dług publiczny do zero, a \n",
              "<mark class=\"entity\" style=\"background: #ddd; padding: 0.45em 0.6em; margin: 0 0.25em; line-height: 1; border-radius: 0.35em;\">\n",
              "    Wall Street\n",
              "    <span style=\"font-size: 0.8em; font-weight: bold; line-height: 1; border-radius: 0.35em; vertical-align: middle; margin-left: 0.5rem\">geogName</span>\n",
              "</mark>\n",
              " może jeszcze raz wszystko zniszczyć, bez strachu reperkusji. Dopóki mogą zarabiać, dlaczego nie mieliby tego zrobić? EDYCJA: Usunięto niektóre &quot;&quot;wybrane słowa&quot;&quot;, dzięki czemu jest to bardziej czytelne.&quot;</div>"
            ]
          },
          "metadata": {}
        },
        {
          "output_type": "display_data",
          "data": {
            "text/plain": [
              "<IPython.core.display.HTML object>"
            ],
            "text/html": [
              "<div class=\"entities\" style=\"line-height: 2.5; direction: ltr\">„Każda firma ma akcje X wyceniane na Y USD/akcję. Kiedy transakcje takie jak „Dragon's Den”” w \n",
              "<mark class=\"entity\" style=\"background: #ddd; padding: 0.45em 0.6em; margin: 0 0.25em; line-height: 1; border-radius: 0.35em;\">\n",
              "    Kanadzie\n",
              "    <span style=\"font-size: 0.8em; font-weight: bold; line-height: 1; border-radius: 0.35em; vertical-align: middle; margin-left: 0.5rem\">placeName</span>\n",
              "</mark>\n",
              " i \n",
              "<mark class=\"entity\" style=\"background: #ddd; padding: 0.45em 0.6em; margin: 0 0.25em; line-height: 1; border-radius: 0.35em;\">\n",
              "    Wielkiej Brytanii\n",
              "    <span style=\"font-size: 0.8em; font-weight: bold; line-height: 1; border-radius: 0.35em; vertical-align: middle; margin-left: 0.5rem\">placeName</span>\n",
              "</mark>\n",
              " lub „Shark Tank”” w \n",
              "<mark class=\"entity\" style=\"background: #ddd; padding: 0.45em 0.6em; margin: 0 0.25em; line-height: 1; border-radius: 0.35em;\">\n",
              "    Stanach Zjednoczonych\n",
              "    <span style=\"font-size: 0.8em; font-weight: bold; line-height: 1; border-radius: 0.35em; vertical-align: middle; margin-left: 0.5rem\">placeName</span>\n",
              "</mark>\n",
              " są sfinalizowane, firma emituje akcje o wartości USD z ogółem na rzecz inwestora, aby firma miała środki na zrobienie wszystkiego, na co przyszli na targi, aby uzyskać finansowanie, chociaż niektóre transakcje mogą być pożyczkami lub tantiemami zamiast kapitału własnego w firmie. może oczywiście obejmować wartości niematerialne, ale chodzi o to, że firma prowadzi „finansowanie kapitałowe” tam, gdzie firma kontynuuje działalność. Akcjonariusze firmy mają swoje udziały, które mogą zostać wynagrodzone, gdy firma zostanie przejęta lub uruchomiona płaci dywidendy, ale jest to wezwanie do wykonania przez kierownictwo firmy.Podczas gdy do firmy dochodzi dopływ gotówki, zwykle robi się więcej, ponieważ \n",
              "<mark class=\"entity\" style=\"background: #ddd; padding: 0.45em 0.6em; margin: 0 0.25em; line-height: 1; border-radius: 0.35em;\">\n",
              "    Smok\n",
              "    <span style=\"font-size: 0.8em; font-weight: bold; line-height: 1; border-radius: 0.35em; vertical-align: middle; margin-left: 0.5rem\">orgName</span>\n",
              "</mark>\n",
              " lub \n",
              "<mark class=\"entity\" style=\"background: #ddd; padding: 0.45em 0.6em; margin: 0 0.25em; line-height: 1; border-radius: 0.35em;\">\n",
              "    Rekin\n",
              "    <span style=\"font-size: 0.8em; font-weight: bold; line-height: 1; border-radius: 0.35em; vertical-align: middle; margin-left: 0.5rem\">placeName</span>\n",
              "</mark>\n",
              " mogą również wnieść kontakty i wiedzę do firmy, aby pomóc jej się rozwijać Jeżeli inwestor zapewni przedsiębiorcy in prezentacje lub sugestie dotyczące strategii firmy to coś więcej niż tylko kupno udziałów w firmie. Jeśli spojrzysz na aktualizacje, które istnieją w „Dragon's Den” lub „Shark Tank” przynajmniej w \n",
              "<mark class=\"entity\" style=\"background: #ddd; padding: 0.45em 0.6em; margin: 0 0.25em; line-height: 1; border-radius: 0.35em;\">\n",
              "    Ameryce Północnej\n",
              "    <span style=\"font-size: 0.8em; font-weight: bold; line-height: 1; border-radius: 0.35em; vertical-align: middle; margin-left: 0.5rem\">geogName</span>\n",
              "</mark>\n",
              ", którą widziałem, zobaczysz, że istnieje więcej niż kilka niepieniężnych wkładów, które \n",
              "<mark class=\"entity\" style=\"background: #ddd; padding: 0.45em 0.6em; margin: 0 0.25em; line-height: 1; border-radius: 0.35em;\">\n",
              "    Smok\n",
              "    <span style=\"font-size: 0.8em; font-weight: bold; line-height: 1; border-radius: 0.35em; vertical-align: middle; margin-left: 0.5rem\">orgName</span>\n",
              "</mark>\n",
              " lub \n",
              "<mark class=\"entity\" style=\"background: #ddd; padding: 0.45em 0.6em; margin: 0 0.25em; line-height: 1; border-radius: 0.35em;\">\n",
              "    Rekin\n",
              "    <span style=\"font-size: 0.8em; font-weight: bold; line-height: 1; border-radius: 0.35em; vertical-align: middle; margin-left: 0.5rem\">persName</span>\n",
              "</mark>\n",
              " może zapewnić.&quot;</div>"
            ]
          },
          "metadata": {}
        },
        {
          "output_type": "display_data",
          "data": {
            "text/plain": [
              "<IPython.core.display.HTML object>"
            ],
            "text/html": [
              "<div class=\"entities\" style=\"line-height: 2.5; direction: ltr\">„Kanada nie wprowadziła podatku dochodowego przed I wojną światową. W szczególności deficyty zmusiły ich do tego w późniejszej części wojny: konserwatyści sprzeciwiali się opodatkowaniu podatkiem dochodowym, ponieważ chcieli przyciągnąć imigrantów głównie z \n",
              "<mark class=\"entity\" style=\"background: #ddd; padding: 0.45em 0.6em; margin: 0 0.25em; line-height: 1; border-radius: 0.35em;\">\n",
              "    Wielkiej Brytanii\n",
              "    <span style=\"font-size: 0.8em; font-weight: bold; line-height: 1; border-radius: 0.35em; vertical-align: middle; margin-left: 0.5rem\">placeName</span>\n",
              "</mark>\n",
              " i \n",
              "<mark class=\"entity\" style=\"background: #ddd; padding: 0.45em 0.6em; margin: 0 0.25em; line-height: 1; border-radius: 0.35em;\">\n",
              "    Stanów Zjednoczonych\n",
              "    <span style=\"font-size: 0.8em; font-weight: bold; line-height: 1; border-radius: 0.35em; vertical-align: middle; margin-left: 0.5rem\">placeName</span>\n",
              "</mark>\n",
              ", w przeciwieństwie do wschodnich \n",
              "<mark class=\"entity\" style=\"background: #ddd; padding: 0.45em 0.6em; margin: 0 0.25em; line-height: 1; border-radius: 0.35em;\">\n",
              "    Europa\n",
              "    <span style=\"font-size: 0.8em; font-weight: bold; line-height: 1; border-radius: 0.35em; vertical-align: middle; margin-left: 0.5rem\">geogName</span>\n",
              "</mark>\n",
              " i chcieli dać swoim preferowanym przybyszom pewną zachętę do przyjazdu do \n",
              "<mark class=\"entity\" style=\"background: #ddd; padding: 0.45em 0.6em; margin: 0 0.25em; line-height: 1; border-radius: 0.35em;\">\n",
              "    Kanady\n",
              "    <span style=\"font-size: 0.8em; font-weight: bold; line-height: 1; border-radius: 0.35em; vertical-align: middle; margin-left: 0.5rem\">placeName</span>\n",
              "</mark>\n",
              ". Wydatki wojenne zmusiły torysów do ponownego rozważenia swoich opcji, a w \n",
              "<mark class=\"entity\" style=\"background: #bfe1d9; padding: 0.45em 0.6em; margin: 0 0.25em; line-height: 1; border-radius: 0.35em;\">\n",
              "    1917 roku\n",
              "    <span style=\"font-size: 0.8em; font-weight: bold; line-height: 1; border-radius: 0.35em; vertical-align: middle; margin-left: 0.5rem\">date</span>\n",
              "</mark>\n",
              " rząd nałożył „tymczasowy” podatek dochodowy na pokrycie wydatków. nowy podatek \n",
              "<mark class=\"entity\" style=\"background: #ddd; padding: 0.45em 0.6em; margin: 0 0.25em; line-height: 1; border-radius: 0.35em;\">\n",
              "    kanadyjski\n",
              "    <span style=\"font-size: 0.8em; font-weight: bold; line-height: 1; border-radius: 0.35em; vertical-align: middle; margin-left: 0.5rem\">placeName</span>\n",
              "</mark>\n",
              " rząd popadł w znaczne długi podczas wojny i nie był w stanie zrezygnować z dochodów z podatku dochodowego po zakończeniu wojny.Po wyborze rządu liberalnego pod przewodnictwem \n",
              "<mark class=\"entity\" style=\"background: #ddd; padding: 0.45em 0.6em; margin: 0 0.25em; line-height: 1; border-radius: 0.35em;\">\n",
              "    Mackenziego Kinga\n",
              "    <span style=\"font-size: 0.8em; font-weight: bold; line-height: 1; border-radius: 0.35em; vertical-align: middle; margin-left: 0.5rem\">persName</span>\n",
              "</mark>\n",
              ", znaczna część polityki krajowej została zdemontowana, a podatek dochodowy pozostał od tamtej pory. Tak więc z kanadyjskiego punktu widzenia zostały one wprowadzone jako część wysiłku wojennego.</div>"
            ]
          },
          "metadata": {}
        },
        {
          "output_type": "display_data",
          "data": {
            "text/plain": [
              "<IPython.core.display.HTML object>"
            ],
            "text/html": [
              "<div class=\"entities\" style=\"line-height: 2.5; direction: ltr\">&quot;Aby rozwinąć nieco odpowiedź \n",
              "<mark class=\"entity\" style=\"background: #ddd; padding: 0.45em 0.6em; margin: 0 0.25em; line-height: 1; border-radius: 0.35em;\">\n",
              "    @MSalters\n",
              "    <span style=\"font-size: 0.8em; font-weight: bold; line-height: 1; border-radius: 0.35em; vertical-align: middle; margin-left: 0.5rem\">orgName</span>\n",
              "</mark>\n",
              "... Kiedy przeczytałem tytuł twojego pytania, założyłem, że przez &quot;&quot;fundusze emerytalne&quot;&quot; masz na myśli fundusze z datą docelową, które są bliskie datom docelowym (powiedzmy, fundusz docelowy \n",
              "<mark class=\"entity\" style=\"background: #bfe1d9; padding: 0.45em 0.6em; margin: 0 0.25em; line-height: 1; border-radius: 0.35em;\">\n",
              "    2015\n",
              "    <span style=\"font-size: 0.8em; font-weight: bold; line-height: 1; border-radius: 0.35em; vertical-align: middle; margin-left: 0.5rem\">date</span>\n",
              "</mark>\n",
              "). Kiedy zobaczyłem, że masz na myśli wszystkie fundusze z datą docelową, przyszło mi do głowy, że zbadanie, w jaki sposób takie fundusze modyfikują swoje portfele w czasie, faktycznie pomogłoby odpowiedzieć na twoje pytanie.Jeśli spojrzysz na krótkoterminowy fundusz docelowy, zobaczysz, że mniejszy procent jest inwestowany na arenie międzynarodowej, w ten sam sposób mniejszy procent jest inwestowany w akcje. Wynika to z ryzyka. Ponieważ jest bardziej prawdopodobne, że wkrótce będziesz potrzebować części pieniędzy i będziesz wypłacać te pieniądze w dolarach \n",
              "<mark class=\"entity\" style=\"background: #ddd; padding: 0.45em 0.6em; margin: 0 0.25em; line-height: 1; border-radius: 0.35em;\">\n",
              "    amerykańskich\n",
              "    <span style=\"font-size: 0.8em; font-weight: bold; line-height: 1; border-radius: 0.35em; vertical-align: middle; margin-left: 0.5rem\">placeName</span>\n",
              "</mark>\n",
              ", zainwestowanie zbyt dużej kwoty w waluty obce jest ryzykowne. Jeśli potrzebujesz pieniędzy, które są obecnie zainwestowane w obcej walucie, a ta waluta ma w tej chwili słabą wartość w stosunku do USD, stracisz pieniądze tylko dlatego, że ich teraz potrzebujesz. to ten sam powód, który idzie w cel przechodzenie funduszy z t-datowych akcji z akcji na obligacje w miarę upływu czasu. Ponieważ wartość portfela akcji ma znacznie większą naturalną zmienność niż wartość portfela obligacji, jeśli inwestujesz dużo w akcje, gdy musisz wypłacić pieniądze, istnieje większe prawdopodobieństwo, że będziesz musiał wypłacić pieniądze, gdy akcje mają się stosunkowo słabo. Inwestowanie więcej w obligacje, gdy będziesz potrzebować swoich pieniędzy, jest mniej ryzykowne. Podobnie, inwestowanie więcej w dolarach \n",
              "<mark class=\"entity\" style=\"background: #ddd; padding: 0.45em 0.6em; margin: 0 0.25em; line-height: 1; border-radius: 0.35em;\">\n",
              "    amerykańskich\n",
              "    <span style=\"font-size: 0.8em; font-weight: bold; line-height: 1; border-radius: 0.35em; vertical-align: middle; margin-left: 0.5rem\">placeName</span>\n",
              "</mark>\n",
              " niż w waluty obce, gdy będziesz potrzebować swoich pieniędzy, jest również mniej ryzykowne”.</div>"
            ]
          },
          "metadata": {}
        }
      ]
    },
    {
      "cell_type": "markdown",
      "source": [
        "## Answer the following questions (2 points):"
      ],
      "metadata": {
        "id": "hGtjjoq1Nk4D"
      }
    },
    {
      "cell_type": "markdown",
      "source": [
        "### Which of the method (counting expressions with capital letters vs. NER) worked better for the task concerned with identification of the proper names?"
      ],
      "metadata": {
        "id": "T0q9n14YNLz1"
      }
    },
    {
      "cell_type": "markdown",
      "source": [
        "Without a doubt, ner method did better job at identifying proper names. It leverages machine learning models and context to recognize entities. Capital letter method took unwanted words into account like 'W','A'."
      ],
      "metadata": {
        "id": "rYwd_2g1N9ef"
      }
    },
    {
      "cell_type": "markdown",
      "source": [
        "### What are the drawbacks of the method based on capital letters?"
      ],
      "metadata": {
        "id": "O_8xeX3gNroH"
      }
    },
    {
      "cell_type": "markdown",
      "source": [
        "Limited to basic capitalization rules and may not handle mixed-case or non-capitalized proper nouns well.\n",
        "May result in false negatives for proper nouns with non-standard capitalization."
      ],
      "metadata": {
        "id": "wEBvfzoAN-Cj"
      }
    },
    {
      "cell_type": "markdown",
      "source": [
        "### What are the drawbacks of the method based on NER?"
      ],
      "metadata": {
        "id": "ZJwf4AyqNrvC"
      }
    },
    {
      "cell_type": "markdown",
      "source": [
        "May not handle domain-specific or rare entities, requires annotated training data for optimal performance."
      ],
      "metadata": {
        "id": "SVS4VDR3N-Xa"
      }
    },
    {
      "cell_type": "markdown",
      "source": [
        "### Which of the coarse-grained NER groups has the best and which has the worst results? Try to justify this observation."
      ],
      "metadata": {
        "id": "BPttp71SNrxN"
      }
    },
    {
      "cell_type": "markdown",
      "source": [
        "The best: placename. These entities often have clear contextual clues for the model to identify them accurately.\n",
        "\n",
        "The worst: i think it's time. Sometimes it's hard to distinguish random number and actual time context."
      ],
      "metadata": {
        "id": "_AAzlaPxN-zM"
      }
    },
    {
      "cell_type": "markdown",
      "source": [
        "### Do you think NER is sufficient for identifying different occurrences of the same entity (i.e. consider \"USA\" and \"Stany Zjednoczone\" and \"Stany Zjednoczone Ameryki Północnej\")? If not, can you suggest an algorithm or a tool that would be able to group such names together?"
      ],
      "metadata": {
        "id": "FasU5QBYNr0f"
      }
    },
    {
      "cell_type": "markdown",
      "source": [
        "NER alone may not be sufficient for identifying different occurrences of the same entity, especially when expressed in different forms. However we can remedy that by doing postprocessing."
      ],
      "metadata": {
        "id": "28IikB6yN_Iz"
      }
    },
    {
      "cell_type": "markdown",
      "source": [
        "### Can you think of a real world problem that would benefit the most from application of Named Entity Recognition algorithm?"
      ],
      "metadata": {
        "id": "YJXMM9rINr3V"
      }
    },
    {
      "cell_type": "markdown",
      "source": [
        "NER can be highly beneficial in extracting information from medical records, identifying entities such as patient names, medical conditions, medications, and dates. It also applies to legal documents."
      ],
      "metadata": {
        "id": "xkzrQW1DN_le"
      }
    }
  ]
}